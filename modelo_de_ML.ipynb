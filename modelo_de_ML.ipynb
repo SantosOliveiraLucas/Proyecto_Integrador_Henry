{
 "cells": [
  {
   "cell_type": "markdown",
   "metadata": {},
   "source": [
    "**LIBRERIAS**"
   ]
  },
  {
   "cell_type": "code",
   "execution_count": 2,
   "metadata": {},
   "outputs": [],
   "source": [
    "import pandas as pd\n",
    "from sklearn.feature_extraction.text import CountVectorizer\n",
    "from sklearn.metrics.pairwise import cosine_similarity\n",
    "from sklearn.preprocessing import LabelEncoder"
   ]
  },
  {
   "cell_type": "markdown",
   "metadata": {},
   "source": [
    "**ABRIMOS LOS ARCHIVOS**"
   ]
  },
  {
   "cell_type": "code",
   "execution_count": 3,
   "metadata": {},
   "outputs": [],
   "source": [
    "#Importamos los df\n",
    "df_games = pd.read_csv('archivos definitivos/games.csv')\n",
    "df_games_1 = pd.read_csv('games.csv')"
   ]
  },
  {
   "cell_type": "markdown",
   "metadata": {},
   "source": [
    "*Despues de multiples pruebas de dsitintos tipo, llego a la conclusion que el quitar datos me esta quitando informacion que me es util, por ejemplo,PCA me quita informacion que es muy importante para el analisis*"
   ]
  },
  {
   "cell_type": "markdown",
   "metadata": {},
   "source": [
    "*Despues de tantas prueba llegué a una logica*"
   ]
  },
  {
   "cell_type": "code",
   "execution_count": 1,
   "metadata": {},
   "outputs": [],
   "source": [
    "#La consigna pide llegar a un MVP, quiere una lista de los 5 juegos mas recomendados en comparacion al item dado. La comparacion es de item a item, por logica los que más tienen relacion y serian más recomendados son aquellos juegos en donde su genero es igual. Entonces necesitaré otra columna que se encargue de hacer la similitud del coseno. Vamos a evaluar las etiquetas que tiene el juego, su jugabilidad, y demás. Todo esto lo podemos aprecia con 'tags'. Entonces este será el encargado hacer la comparación del angulo del coseno para determinar una simimlitud. "
   ]
  },
  {
   "cell_type": "markdown",
   "metadata": {},
   "source": [
    "*empezamos de cero*"
   ]
  },
  {
   "cell_type": "code",
   "execution_count": null,
   "metadata": {},
   "outputs": [],
   "source": [
    "#extraemos el df_games_union para usarlo en la fastapi, este df lo unico que tiene de mas es tags\n",
    "df_games_union.to_csv('games_union_ml.csv',index=False)"
   ]
  },
  {
   "cell_type": "code",
   "execution_count": null,
   "metadata": {},
   "outputs": [],
   "source": [
    "#hacemos una union por el id para tener los tags\n",
    "df_games_union = df_games_2.merge(df_games_complemento, left_on='item_id', right_index=True)"
   ]
  },
  {
   "cell_type": "code",
   "execution_count": 95,
   "metadata": {},
   "outputs": [
    {
     "data": {
      "text/html": [
       "<div>\n",
       "<style scoped>\n",
       "    .dataframe tbody tr th:only-of-type {\n",
       "        vertical-align: middle;\n",
       "    }\n",
       "\n",
       "    .dataframe tbody tr th {\n",
       "        vertical-align: top;\n",
       "    }\n",
       "\n",
       "    .dataframe thead th {\n",
       "        text-align: right;\n",
       "    }\n",
       "</style>\n",
       "<table border=\"1\" class=\"dataframe\">\n",
       "  <thead>\n",
       "    <tr style=\"text-align: right;\">\n",
       "      <th></th>\n",
       "      <th>item_id</th>\n",
       "      <th>genres</th>\n",
       "      <th>year_release</th>\n",
       "      <th>tags</th>\n",
       "    </tr>\n",
       "  </thead>\n",
       "  <tbody>\n",
       "    <tr>\n",
       "      <th>0</th>\n",
       "      <td>761140</td>\n",
       "      <td>Action</td>\n",
       "      <td>2018</td>\n",
       "      <td>Fantasy</td>\n",
       "    </tr>\n",
       "    <tr>\n",
       "      <th>1</th>\n",
       "      <td>761140</td>\n",
       "      <td>Casual</td>\n",
       "      <td>2018</td>\n",
       "      <td>Fantasy</td>\n",
       "    </tr>\n",
       "    <tr>\n",
       "      <th>2</th>\n",
       "      <td>761140</td>\n",
       "      <td>Indie</td>\n",
       "      <td>2018</td>\n",
       "      <td>Fantasy</td>\n",
       "    </tr>\n",
       "    <tr>\n",
       "      <th>3</th>\n",
       "      <td>761140</td>\n",
       "      <td>Simulation</td>\n",
       "      <td>2018</td>\n",
       "      <td>Fantasy</td>\n",
       "    </tr>\n",
       "    <tr>\n",
       "      <th>4</th>\n",
       "      <td>761140</td>\n",
       "      <td>Strategy</td>\n",
       "      <td>2018</td>\n",
       "      <td>Fantasy</td>\n",
       "    </tr>\n",
       "    <tr>\n",
       "      <th>...</th>\n",
       "      <td>...</td>\n",
       "      <td>...</td>\n",
       "      <td>...</td>\n",
       "      <td>...</td>\n",
       "    </tr>\n",
       "    <tr>\n",
       "      <th>71260</th>\n",
       "      <td>610660</td>\n",
       "      <td>Indie</td>\n",
       "      <td>2018</td>\n",
       "      <td>Indie</td>\n",
       "    </tr>\n",
       "    <tr>\n",
       "      <th>71261</th>\n",
       "      <td>610660</td>\n",
       "      <td>Racing</td>\n",
       "      <td>2018</td>\n",
       "      <td>Indie</td>\n",
       "    </tr>\n",
       "    <tr>\n",
       "      <th>71262</th>\n",
       "      <td>610660</td>\n",
       "      <td>Simulation</td>\n",
       "      <td>2018</td>\n",
       "      <td>Indie</td>\n",
       "    </tr>\n",
       "    <tr>\n",
       "      <th>71263</th>\n",
       "      <td>658870</td>\n",
       "      <td>Casual</td>\n",
       "      <td>2017</td>\n",
       "      <td>Shoot 'Em Up</td>\n",
       "    </tr>\n",
       "    <tr>\n",
       "      <th>71264</th>\n",
       "      <td>658870</td>\n",
       "      <td>Indie</td>\n",
       "      <td>2017</td>\n",
       "      <td>Shoot 'Em Up</td>\n",
       "    </tr>\n",
       "  </tbody>\n",
       "</table>\n",
       "<p>71259 rows × 4 columns</p>\n",
       "</div>"
      ],
      "text/plain": [
       "       item_id      genres  year_release          tags\n",
       "0       761140      Action          2018       Fantasy\n",
       "1       761140      Casual          2018       Fantasy\n",
       "2       761140       Indie          2018       Fantasy\n",
       "3       761140  Simulation          2018       Fantasy\n",
       "4       761140    Strategy          2018       Fantasy\n",
       "...        ...         ...           ...           ...\n",
       "71260   610660       Indie          2018         Indie\n",
       "71261   610660      Racing          2018         Indie\n",
       "71262   610660  Simulation          2018         Indie\n",
       "71263   658870      Casual          2017  Shoot 'Em Up\n",
       "71264   658870       Indie          2017  Shoot 'Em Up\n",
       "\n",
       "[71259 rows x 4 columns]"
      ]
     },
     "execution_count": 95,
     "metadata": {},
     "output_type": "execute_result"
    }
   ],
   "source": [
    "#se mermaron solo algunos pocas filas pero igual no es suficiente para hacer la muestra\n",
    "df_games_union"
   ]
  },
  {
   "cell_type": "markdown",
   "metadata": {},
   "source": [
    "*Empezamos a aplicar la codigo para armar la función*"
   ]
  },
  {
   "cell_type": "code",
   "execution_count": 53,
   "metadata": {},
   "outputs": [],
   "source": [
    "#Filtra el DataFrame para obtener los juegos del género de referencia. Supongamos que deseas recomendar juegos similares al género \"Action\" y tienes el género de referencia en una variable llamada genre_reference:\n",
    "genre_reference = \"Action\"\n",
    "df_filtered = df_games_union[df_games_union['genres'] == genre_reference]"
   ]
  },
  {
   "cell_type": "code",
   "execution_count": 57,
   "metadata": {},
   "outputs": [],
   "source": [
    "#Crea una matriz de características donde cada fila representa un juego y cada columna representa un género. Si un juego pertenece a un género, el valor en la columna correspondiente es 1; de lo contrario, es 0. Esto se hace utilizando la función pivot_table en pandas:\n",
    "df_games_encoded = pd.get_dummies(df_filtered, columns=['tags'], dtype=int)"
   ]
  },
  {
   "cell_type": "code",
   "execution_count": 59,
   "metadata": {},
   "outputs": [
    {
     "data": {
      "text/html": [
       "<div>\n",
       "<style scoped>\n",
       "    .dataframe tbody tr th:only-of-type {\n",
       "        vertical-align: middle;\n",
       "    }\n",
       "\n",
       "    .dataframe tbody tr th {\n",
       "        vertical-align: top;\n",
       "    }\n",
       "\n",
       "    .dataframe thead th {\n",
       "        text-align: right;\n",
       "    }\n",
       "</style>\n",
       "<table border=\"1\" class=\"dataframe\">\n",
       "  <thead>\n",
       "    <tr style=\"text-align: right;\">\n",
       "      <th></th>\n",
       "      <th>item_id</th>\n",
       "      <th>genres</th>\n",
       "      <th>year_release</th>\n",
       "      <th>tags_1980s</th>\n",
       "      <th>tags_1990's</th>\n",
       "      <th>tags_2.5D</th>\n",
       "      <th>tags_2D</th>\n",
       "      <th>tags_2D Fighter</th>\n",
       "      <th>tags_3D Platformer</th>\n",
       "      <th>tags_3D Vision</th>\n",
       "      <th>...</th>\n",
       "      <th>tags_Walking Simulator</th>\n",
       "      <th>tags_War</th>\n",
       "      <th>tags_Wargame</th>\n",
       "      <th>tags_Web Publishing</th>\n",
       "      <th>tags_Werewolves</th>\n",
       "      <th>tags_Word Game</th>\n",
       "      <th>tags_World War I</th>\n",
       "      <th>tags_World War II</th>\n",
       "      <th>tags_Zombies</th>\n",
       "      <th>tags_e-sports</th>\n",
       "    </tr>\n",
       "  </thead>\n",
       "  <tbody>\n",
       "    <tr>\n",
       "      <th>0</th>\n",
       "      <td>761140</td>\n",
       "      <td>Action</td>\n",
       "      <td>2018</td>\n",
       "      <td>0</td>\n",
       "      <td>0</td>\n",
       "      <td>0</td>\n",
       "      <td>0</td>\n",
       "      <td>0</td>\n",
       "      <td>0</td>\n",
       "      <td>0</td>\n",
       "      <td>...</td>\n",
       "      <td>0</td>\n",
       "      <td>0</td>\n",
       "      <td>0</td>\n",
       "      <td>0</td>\n",
       "      <td>0</td>\n",
       "      <td>0</td>\n",
       "      <td>0</td>\n",
       "      <td>0</td>\n",
       "      <td>0</td>\n",
       "      <td>0</td>\n",
       "    </tr>\n",
       "    <tr>\n",
       "      <th>14</th>\n",
       "      <td>767400</td>\n",
       "      <td>Action</td>\n",
       "      <td>2017</td>\n",
       "      <td>0</td>\n",
       "      <td>0</td>\n",
       "      <td>0</td>\n",
       "      <td>0</td>\n",
       "      <td>0</td>\n",
       "      <td>0</td>\n",
       "      <td>0</td>\n",
       "      <td>...</td>\n",
       "      <td>0</td>\n",
       "      <td>0</td>\n",
       "      <td>0</td>\n",
       "      <td>0</td>\n",
       "      <td>0</td>\n",
       "      <td>0</td>\n",
       "      <td>0</td>\n",
       "      <td>0</td>\n",
       "      <td>0</td>\n",
       "      <td>0</td>\n",
       "    </tr>\n",
       "    <tr>\n",
       "      <th>17</th>\n",
       "      <td>772540</td>\n",
       "      <td>Action</td>\n",
       "      <td>2018</td>\n",
       "      <td>0</td>\n",
       "      <td>0</td>\n",
       "      <td>0</td>\n",
       "      <td>0</td>\n",
       "      <td>0</td>\n",
       "      <td>0</td>\n",
       "      <td>0</td>\n",
       "      <td>...</td>\n",
       "      <td>0</td>\n",
       "      <td>0</td>\n",
       "      <td>0</td>\n",
       "      <td>0</td>\n",
       "      <td>0</td>\n",
       "      <td>0</td>\n",
       "      <td>0</td>\n",
       "      <td>0</td>\n",
       "      <td>0</td>\n",
       "      <td>0</td>\n",
       "    </tr>\n",
       "    <tr>\n",
       "      <th>36</th>\n",
       "      <td>770380</td>\n",
       "      <td>Action</td>\n",
       "      <td>2018</td>\n",
       "      <td>0</td>\n",
       "      <td>0</td>\n",
       "      <td>0</td>\n",
       "      <td>0</td>\n",
       "      <td>0</td>\n",
       "      <td>0</td>\n",
       "      <td>0</td>\n",
       "      <td>...</td>\n",
       "      <td>0</td>\n",
       "      <td>0</td>\n",
       "      <td>0</td>\n",
       "      <td>0</td>\n",
       "      <td>0</td>\n",
       "      <td>0</td>\n",
       "      <td>0</td>\n",
       "      <td>0</td>\n",
       "      <td>0</td>\n",
       "      <td>0</td>\n",
       "    </tr>\n",
       "    <tr>\n",
       "      <th>64</th>\n",
       "      <td>768060</td>\n",
       "      <td>Action</td>\n",
       "      <td>2018</td>\n",
       "      <td>0</td>\n",
       "      <td>0</td>\n",
       "      <td>0</td>\n",
       "      <td>0</td>\n",
       "      <td>0</td>\n",
       "      <td>0</td>\n",
       "      <td>0</td>\n",
       "      <td>...</td>\n",
       "      <td>0</td>\n",
       "      <td>0</td>\n",
       "      <td>0</td>\n",
       "      <td>0</td>\n",
       "      <td>0</td>\n",
       "      <td>0</td>\n",
       "      <td>0</td>\n",
       "      <td>0</td>\n",
       "      <td>0</td>\n",
       "      <td>0</td>\n",
       "    </tr>\n",
       "  </tbody>\n",
       "</table>\n",
       "<p>5 rows × 302 columns</p>\n",
       "</div>"
      ],
      "text/plain": [
       "    item_id  genres  year_release  tags_1980s  tags_1990's  tags_2.5D  \\\n",
       "0    761140  Action          2018           0            0          0   \n",
       "14   767400  Action          2017           0            0          0   \n",
       "17   772540  Action          2018           0            0          0   \n",
       "36   770380  Action          2018           0            0          0   \n",
       "64   768060  Action          2018           0            0          0   \n",
       "\n",
       "    tags_2D  tags_2D Fighter  tags_3D Platformer  tags_3D Vision  ...  \\\n",
       "0         0                0                   0               0  ...   \n",
       "14        0                0                   0               0  ...   \n",
       "17        0                0                   0               0  ...   \n",
       "36        0                0                   0               0  ...   \n",
       "64        0                0                   0               0  ...   \n",
       "\n",
       "    tags_Walking Simulator  tags_War  tags_Wargame  tags_Web Publishing  \\\n",
       "0                        0         0             0                    0   \n",
       "14                       0         0             0                    0   \n",
       "17                       0         0             0                    0   \n",
       "36                       0         0             0                    0   \n",
       "64                       0         0             0                    0   \n",
       "\n",
       "    tags_Werewolves  tags_Word Game  tags_World War I  tags_World War II  \\\n",
       "0                 0               0                 0                  0   \n",
       "14                0               0                 0                  0   \n",
       "17                0               0                 0                  0   \n",
       "36                0               0                 0                  0   \n",
       "64                0               0                 0                  0   \n",
       "\n",
       "    tags_Zombies  tags_e-sports  \n",
       "0              0              0  \n",
       "14             0              0  \n",
       "17             0              0  \n",
       "36             0              0  \n",
       "64             0              0  \n",
       "\n",
       "[5 rows x 302 columns]"
      ]
     },
     "execution_count": 59,
     "metadata": {},
     "output_type": "execute_result"
    }
   ],
   "source": [
    "df_games_encoded.head()"
   ]
  },
  {
   "cell_type": "code",
   "execution_count": 62,
   "metadata": {},
   "outputs": [],
   "source": [
    "#eliminamos columnas insignificantes\n",
    "df_games_encoded.drop(columns=['genres'], axis=1, inplace=True)"
   ]
  },
  {
   "cell_type": "code",
   "execution_count": 63,
   "metadata": {},
   "outputs": [],
   "source": [
    "#realizamos la similitud del coseno\n",
    "cosine_sim = cosine_similarity(df_games_encoded, df_games_encoded)"
   ]
  },
  {
   "cell_type": "code",
   "execution_count": 69,
   "metadata": {},
   "outputs": [],
   "source": [
    "# Índice del juego de referencia\n",
    "reference_game_index = df_filtered.index.values[0]"
   ]
  },
  {
   "cell_type": "code",
   "execution_count": 70,
   "metadata": {},
   "outputs": [
    {
     "data": {
      "text/plain": [
       "0"
      ]
     },
     "execution_count": 70,
     "metadata": {},
     "output_type": "execute_result"
    }
   ],
   "source": [
    "#corroboramos que lo que haya en la variable tenga sentido\n",
    "reference_game_index"
   ]
  },
  {
   "cell_type": "code",
   "execution_count": 71,
   "metadata": {},
   "outputs": [],
   "source": [
    "# Obtenemos las similitudes del juego de referencia con otros juegos\n",
    "similarities = cosine_sim[reference_game_index]"
   ]
  },
  {
   "cell_type": "code",
   "execution_count": 73,
   "metadata": {},
   "outputs": [],
   "source": [
    "# Enumeramos las similitudes junto con los índices de los juegos\n",
    "similar_games = list(enumerate(similarities))"
   ]
  },
  {
   "cell_type": "code",
   "execution_count": 75,
   "metadata": {},
   "outputs": [],
   "source": [
    "# Ordenamos la lista de juegos similares por similitud en orden descendente\n",
    "similar_games_sorted = sorted(similar_games, key=lambda x: x[1], reverse=True)"
   ]
  },
  {
   "cell_type": "code",
   "execution_count": 77,
   "metadata": {},
   "outputs": [],
   "source": [
    "# Excluimos el juego de referencia y toma los 5 juegos más similares\n",
    "top_similar_games = similar_games_sorted[1:6]"
   ]
  },
  {
   "cell_type": "code",
   "execution_count": 79,
   "metadata": {},
   "outputs": [],
   "source": [
    "# Obtenemos los índices de los juegos recomendados\n",
    "recommended_game_indices = [game[0] for game in top_similar_games]"
   ]
  },
  {
   "cell_type": "code",
   "execution_count": 80,
   "metadata": {},
   "outputs": [
    {
     "data": {
      "text/plain": [
       "[4653, 4372, 4370, 11200, 4354]"
      ]
     },
     "execution_count": 80,
     "metadata": {},
     "output_type": "execute_result"
    }
   ],
   "source": [
    "#verificamos\n",
    "recommended_game_indices"
   ]
  },
  {
   "cell_type": "code",
   "execution_count": 81,
   "metadata": {},
   "outputs": [],
   "source": [
    "# guardamos en una variable(se guardara como df)\n",
    "recommended_games = df_filtered.iloc[recommended_game_indices]"
   ]
  },
  {
   "cell_type": "code",
   "execution_count": 82,
   "metadata": {},
   "outputs": [
    {
     "data": {
      "text/html": [
       "<div>\n",
       "<style scoped>\n",
       "    .dataframe tbody tr th:only-of-type {\n",
       "        vertical-align: middle;\n",
       "    }\n",
       "\n",
       "    .dataframe tbody tr th {\n",
       "        vertical-align: top;\n",
       "    }\n",
       "\n",
       "    .dataframe thead th {\n",
       "        text-align: right;\n",
       "    }\n",
       "</style>\n",
       "<table border=\"1\" class=\"dataframe\">\n",
       "  <thead>\n",
       "    <tr style=\"text-align: right;\">\n",
       "      <th></th>\n",
       "      <th>item_id</th>\n",
       "      <th>genres</th>\n",
       "      <th>year_release</th>\n",
       "      <th>tags</th>\n",
       "    </tr>\n",
       "  </thead>\n",
       "  <tbody>\n",
       "    <tr>\n",
       "      <th>29827</th>\n",
       "      <td>760720</td>\n",
       "      <td>Action</td>\n",
       "      <td>2017</td>\n",
       "      <td>Casual</td>\n",
       "    </tr>\n",
       "    <tr>\n",
       "      <th>27875</th>\n",
       "      <td>760860</td>\n",
       "      <td>Action</td>\n",
       "      <td>2017</td>\n",
       "      <td>Adventure</td>\n",
       "    </tr>\n",
       "    <tr>\n",
       "      <th>27860</th>\n",
       "      <td>760900</td>\n",
       "      <td>Action</td>\n",
       "      <td>2017</td>\n",
       "      <td>Platformer</td>\n",
       "    </tr>\n",
       "    <tr>\n",
       "      <th>70965</th>\n",
       "      <td>761100</td>\n",
       "      <td>Action</td>\n",
       "      <td>2017</td>\n",
       "      <td>PvP</td>\n",
       "    </tr>\n",
       "    <tr>\n",
       "      <th>27762</th>\n",
       "      <td>752060</td>\n",
       "      <td>Action</td>\n",
       "      <td>1993</td>\n",
       "      <td>Simulation</td>\n",
       "    </tr>\n",
       "  </tbody>\n",
       "</table>\n",
       "</div>"
      ],
      "text/plain": [
       "       item_id  genres  year_release        tags\n",
       "29827   760720  Action          2017      Casual\n",
       "27875   760860  Action          2017   Adventure\n",
       "27860   760900  Action          2017  Platformer\n",
       "70965   761100  Action          2017         PvP\n",
       "27762   752060  Action          1993  Simulation"
      ]
     },
     "execution_count": 82,
     "metadata": {},
     "output_type": "execute_result"
    }
   ],
   "source": [
    "#verificamos la repuesta\n",
    "recommended_games"
   ]
  },
  {
   "cell_type": "markdown",
   "metadata": {},
   "source": [
    "**METEMOS EL MODELO EN LA FUNCION**"
   ]
  },
  {
   "cell_type": "code",
   "execution_count": 92,
   "metadata": {},
   "outputs": [],
   "source": [
    "#definimos la funcion en donde le deben de pasar de parametro un id de un producto el cual quiero que tomen como referencia para mis 5 posteriores recomendaciones\n",
    "def recomendacion_juego( id : int ):\n",
    "    try:\n",
    "        #Filtra el DataFrame para obtener los juegos del género de referencia. Lo guardamos en una variable llamada genre_reference:\n",
    "        genre_reference = df_games_union.loc[df_games_union['item_id'] == id, 'genres'].iloc[0]\n",
    "        df_filtered = df_games_union[df_games_union['genres'] == genre_reference]\n",
    "\n",
    "        #Creo una matriz de características donde cada fila representa un juego y cada columna representa un tags. Si un juego pertenece a un tags, el valor en la columna correspondiente es 1; de lo contrario, es 0. Esto se hace utilizando la función pivot_table en pandas:\n",
    "        df_games_encoded = pd.get_dummies(df_filtered, columns=['tags'], dtype=int)\n",
    "\n",
    "        #eliminamos columnas insignificantes\n",
    "        df_games_encoded.drop(columns=['genres'], axis=1, inplace=True)\n",
    "\n",
    "        #esta es la parte pesada, tenemos que calcular la similitud del coseno\n",
    "        cosine_sim = cosine_similarity(df_games_encoded, df_games_encoded)\n",
    "\n",
    "        # guardamos el indice del juego de referencia\n",
    "        reference_game_index = df_filtered.index.values[0]\n",
    "\n",
    "        # Obtenemos las similitudes del juego de referencia con otros juegos\n",
    "        similarities = cosine_sim[reference_game_index]\n",
    "\n",
    "        # Enumeramos las similitudes junto con los índices de los juegos\n",
    "        similar_games = list(enumerate(similarities))\n",
    "\n",
    "        # Ordenamos la lista de juegos similares por similitud en orden descendente\n",
    "        similar_games_sorted = sorted(similar_games, key=lambda x: x[1], reverse=True)\n",
    "\n",
    "        # Excluhimos el juego de referencia y toma los 5 juegos más similares\n",
    "        top_similar_games = similar_games_sorted[1:6]\n",
    "\n",
    "        # Obtenemos los índices de los juegos recomendados\n",
    "        recommended_game_indices = [game[0] for game in top_similar_games]\n",
    "\n",
    "        return {\n",
    "            'Top 5 de id de los juegos más recomendados similares al que ingreso' : f'{recommended_game_indices}'\n",
    "        }\n",
    "    except Exception:\n",
    "        return 'Por favor ingrese un id valido'"
   ]
  },
  {
   "cell_type": "code",
   "execution_count": 94,
   "metadata": {},
   "outputs": [
    {
     "data": {
      "text/plain": [
       "{'Top 5 de id de los juegos más recomendados similares al que ingreso': '[4653, 4372, 4370, 11200, 4354]'}"
      ]
     },
     "execution_count": 94,
     "metadata": {},
     "output_type": "execute_result"
    }
   ],
   "source": [
    "recomendacion_juego(10)"
   ]
  }
 ],
 "metadata": {
  "kernelspec": {
   "display_name": "Python 3",
   "language": "python",
   "name": "python3"
  },
  "language_info": {
   "codemirror_mode": {
    "name": "ipython",
    "version": 3
   },
   "file_extension": ".py",
   "mimetype": "text/x-python",
   "name": "python",
   "nbconvert_exporter": "python",
   "pygments_lexer": "ipython3",
   "version": "3.11.5"
  },
  "orig_nbformat": 4
 },
 "nbformat": 4,
 "nbformat_minor": 2
}
