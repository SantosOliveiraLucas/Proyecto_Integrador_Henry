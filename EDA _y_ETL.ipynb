{
 "cells": [
  {
   "cell_type": "markdown",
   "metadata": {},
   "source": [
    "**LIBRERIAS**"
   ]
  },
  {
   "cell_type": "code",
   "execution_count": 1,
   "metadata": {},
   "outputs": [],
   "source": [
    "import pandas as pd\n",
    "import json\n",
    "import ast\n",
    "import gzip\n",
    "import numpy as np"
   ]
  },
  {
   "cell_type": "markdown",
   "metadata": {},
   "source": [
    "1.0 **APERTURAS DE DATOS**"
   ]
  },
  {
   "cell_type": "markdown",
   "metadata": {},
   "source": [
    "1.1 *REVIEWS*"
   ]
  },
  {
   "cell_type": "code",
   "execution_count": 282,
   "metadata": {},
   "outputs": [],
   "source": [
    "users_reviews = []\n",
    "\n",
    "with gzip.open('user_reviews.json.gz', 'rt', encoding='utf-8') as f:\n",
    "    for line in f:\n",
    "        try:\n",
    "            user_item = ast.literal_eval(line)\n",
    "            users_reviews.append(user_item)\n",
    "        except (SyntaxError, ValueError) as e:\n",
    "            print(f\"Error evaluating line as literal: {e}\")\n",
    "#4.5seg / 4.1"
   ]
  },
  {
   "cell_type": "markdown",
   "metadata": {},
   "source": [
    "1.2 *GAMES*"
   ]
  },
  {
   "cell_type": "code",
   "execution_count": 2,
   "metadata": {},
   "outputs": [],
   "source": [
    "steam_games_list = []\n",
    "with open('output_steam_games.json', 'r', encoding='MacRoman') as f:\n",
    "    for line in f:\n",
    "        try:\n",
    "            game_data = json.loads(line)\n",
    "            steam_games_list.append(game_data)\n",
    "        except json.JSONDecodeError as e:\n",
    "            print(f\"Error decoding JSON: {e}\")\n",
    "#17.7 seg / 2m 44.3 / 24.4s"
   ]
  },
  {
   "cell_type": "markdown",
   "metadata": {},
   "source": [
    "1.3 *ITEMS*"
   ]
  },
  {
   "cell_type": "code",
   "execution_count": 3,
   "metadata": {},
   "outputs": [],
   "source": [
    "users_items = []\n",
    "\n",
    "with gzip.open('users_items.json.gz', 'rt', encoding='utf-8') as f:\n",
    "    for line in f:\n",
    "        try:\n",
    "            user_item_line = ast.literal_eval(line)\n",
    "            users_items.append(user_item_line)\n",
    "        except (SyntaxError, ValueError) as e:\n",
    "            print(f\"Error evaluating line as literal: {e}\")\n",
    "#3min 37seg / 5m 52.9 / 3m 38.5"
   ]
  },
  {
   "cell_type": "markdown",
   "metadata": {},
   "source": [
    "2.0 **NORMALIZACION**"
   ]
  },
  {
   "cell_type": "markdown",
   "metadata": {},
   "source": [
    "2.1 *REVIEWS*"
   ]
  },
  {
   "cell_type": "code",
   "execution_count": 283,
   "metadata": {},
   "outputs": [],
   "source": [
    "df_reviews = pd.json_normalize(\n",
    "    users_reviews, 'reviews',['user_id', 'user_url'])\n",
    "# 8.2 / 16.5"
   ]
  },
  {
   "cell_type": "code",
   "execution_count": 285,
   "metadata": {},
   "outputs": [
    {
     "data": {
      "text/html": [
       "<div>\n",
       "<style scoped>\n",
       "    .dataframe tbody tr th:only-of-type {\n",
       "        vertical-align: middle;\n",
       "    }\n",
       "\n",
       "    .dataframe tbody tr th {\n",
       "        vertical-align: top;\n",
       "    }\n",
       "\n",
       "    .dataframe thead th {\n",
       "        text-align: right;\n",
       "    }\n",
       "</style>\n",
       "<table border=\"1\" class=\"dataframe\">\n",
       "  <thead>\n",
       "    <tr style=\"text-align: right;\">\n",
       "      <th></th>\n",
       "      <th>funny</th>\n",
       "      <th>posted</th>\n",
       "      <th>last_edited</th>\n",
       "      <th>item_id</th>\n",
       "      <th>helpful</th>\n",
       "      <th>recommend</th>\n",
       "      <th>review</th>\n",
       "      <th>user_id</th>\n",
       "      <th>user_url</th>\n",
       "    </tr>\n",
       "  </thead>\n",
       "  <tbody>\n",
       "    <tr>\n",
       "      <th>0</th>\n",
       "      <td></td>\n",
       "      <td>Posted November 5, 2011.</td>\n",
       "      <td></td>\n",
       "      <td>1250</td>\n",
       "      <td>No ratings yet</td>\n",
       "      <td>True</td>\n",
       "      <td>Simple yet with great replayability. In my opi...</td>\n",
       "      <td>76561197970982479</td>\n",
       "      <td>http://steamcommunity.com/profiles/76561197970...</td>\n",
       "    </tr>\n",
       "    <tr>\n",
       "      <th>1</th>\n",
       "      <td></td>\n",
       "      <td>Posted July 15, 2011.</td>\n",
       "      <td></td>\n",
       "      <td>22200</td>\n",
       "      <td>No ratings yet</td>\n",
       "      <td>True</td>\n",
       "      <td>It's unique and worth a playthrough.</td>\n",
       "      <td>76561197970982479</td>\n",
       "      <td>http://steamcommunity.com/profiles/76561197970...</td>\n",
       "    </tr>\n",
       "    <tr>\n",
       "      <th>2</th>\n",
       "      <td></td>\n",
       "      <td>Posted April 21, 2011.</td>\n",
       "      <td></td>\n",
       "      <td>43110</td>\n",
       "      <td>No ratings yet</td>\n",
       "      <td>True</td>\n",
       "      <td>Great atmosphere. The gunplay can be a bit chu...</td>\n",
       "      <td>76561197970982479</td>\n",
       "      <td>http://steamcommunity.com/profiles/76561197970...</td>\n",
       "    </tr>\n",
       "    <tr>\n",
       "      <th>3</th>\n",
       "      <td></td>\n",
       "      <td>Posted June 24, 2014.</td>\n",
       "      <td></td>\n",
       "      <td>251610</td>\n",
       "      <td>15 of 20 people (75%) found this review helpful</td>\n",
       "      <td>True</td>\n",
       "      <td>I know what you think when you see this title ...</td>\n",
       "      <td>js41637</td>\n",
       "      <td>http://steamcommunity.com/id/js41637</td>\n",
       "    </tr>\n",
       "    <tr>\n",
       "      <th>4</th>\n",
       "      <td></td>\n",
       "      <td>Posted September 8, 2013.</td>\n",
       "      <td></td>\n",
       "      <td>227300</td>\n",
       "      <td>0 of 1 people (0%) found this review helpful</td>\n",
       "      <td>True</td>\n",
       "      <td>For a simple (it's actually not all that simpl...</td>\n",
       "      <td>js41637</td>\n",
       "      <td>http://steamcommunity.com/id/js41637</td>\n",
       "    </tr>\n",
       "  </tbody>\n",
       "</table>\n",
       "</div>"
      ],
      "text/plain": [
       "  funny                     posted last_edited item_id  \\\n",
       "0         Posted November 5, 2011.                1250   \n",
       "1            Posted July 15, 2011.               22200   \n",
       "2           Posted April 21, 2011.               43110   \n",
       "3            Posted June 24, 2014.              251610   \n",
       "4        Posted September 8, 2013.              227300   \n",
       "\n",
       "                                           helpful  recommend  \\\n",
       "0                                   No ratings yet       True   \n",
       "1                                   No ratings yet       True   \n",
       "2                                   No ratings yet       True   \n",
       "3  15 of 20 people (75%) found this review helpful       True   \n",
       "4     0 of 1 people (0%) found this review helpful       True   \n",
       "\n",
       "                                              review            user_id  \\\n",
       "0  Simple yet with great replayability. In my opi...  76561197970982479   \n",
       "1               It's unique and worth a playthrough.  76561197970982479   \n",
       "2  Great atmosphere. The gunplay can be a bit chu...  76561197970982479   \n",
       "3  I know what you think when you see this title ...            js41637   \n",
       "4  For a simple (it's actually not all that simpl...            js41637   \n",
       "\n",
       "                                            user_url  \n",
       "0  http://steamcommunity.com/profiles/76561197970...  \n",
       "1  http://steamcommunity.com/profiles/76561197970...  \n",
       "2  http://steamcommunity.com/profiles/76561197970...  \n",
       "3               http://steamcommunity.com/id/js41637  \n",
       "4               http://steamcommunity.com/id/js41637  "
      ]
     },
     "execution_count": 285,
     "metadata": {},
     "output_type": "execute_result"
    }
   ],
   "source": [
    "df_reviews.head()"
   ]
  },
  {
   "cell_type": "markdown",
   "metadata": {},
   "source": [
    "2.2 *GAMES*"
   ]
  },
  {
   "cell_type": "markdown",
   "metadata": {},
   "source": [
    "2.2.1 *LIMPIEZA DE DATOS EN EL DATA FRAME*"
   ]
  },
  {
   "cell_type": "code",
   "execution_count": 4,
   "metadata": {},
   "outputs": [],
   "source": [
    "df_games_sucio = pd.json_normalize(steam_games_list)\n",
    "#2.1"
   ]
  },
  {
   "cell_type": "code",
   "execution_count": 5,
   "metadata": {},
   "outputs": [],
   "source": [
    "#Buscamos eliminar las columnas que tienen solamente NaN, utilizaremos una mascara\n",
    "colums_nan = ['publisher','genres','app_name','title','url','release_date','tags','reviews_url','discount_price','specs','price','early_access','id','metascore','developer']\n",
    "#0.1"
   ]
  },
  {
   "cell_type": "code",
   "execution_count": 6,
   "metadata": {},
   "outputs": [],
   "source": [
    "#Creamos la mascara (el filtro)\n",
    "mascara = df_games_sucio.index <= 88309\n",
    "#0.2"
   ]
  },
  {
   "cell_type": "code",
   "execution_count": 7,
   "metadata": {},
   "outputs": [],
   "source": [
    "# Transcribimos los datos que queremos utilizando la mascara\n",
    "df_games_anidado = df_games_sucio[~mascara | df_games_sucio[colums_nan].notna().all(axis=1)]\n",
    "#0.2"
   ]
  },
  {
   "cell_type": "code",
   "execution_count": 12,
   "metadata": {},
   "outputs": [],
   "source": [
    "#Ahora desanidaremos las columnas que estan anidadas en el df, asi nos queda limpio\n",
    "df_games = df_games_anidado.explode('genres')\n",
    "#df_games = df_games.explode('tags')\n",
    "#df_games = df_games.explode('specs')\n",
    "#1m 15.2"
   ]
  },
  {
   "cell_type": "markdown",
   "metadata": {},
   "source": [
    "2.3 *ITEMS*"
   ]
  },
  {
   "cell_type": "code",
   "execution_count": 2,
   "metadata": {},
   "outputs": [
    {
     "ename": "NameError",
     "evalue": "name 'pd' is not defined",
     "output_type": "error",
     "traceback": [
      "\u001b[1;31m---------------------------------------------------------------------------\u001b[0m",
      "\u001b[1;31mNameError\u001b[0m                                 Traceback (most recent call last)",
      "\u001b[1;32mc:\\Users\\PC\\Desktop\\PI MLOps - STEAM\\apertura_archivos.ipynb Cell 21\u001b[0m line \u001b[0;36m1\n\u001b[1;32m----> <a href='vscode-notebook-cell:/c%3A/Users/PC/Desktop/PI%20MLOps%20-%20STEAM/apertura_archivos.ipynb#X26sZmlsZQ%3D%3D?line=0'>1</a>\u001b[0m df_items \u001b[39m=\u001b[39m pd\u001b[39m.\u001b[39mjson_normalize(\n\u001b[0;32m      <a href='vscode-notebook-cell:/c%3A/Users/PC/Desktop/PI%20MLOps%20-%20STEAM/apertura_archivos.ipynb#X26sZmlsZQ%3D%3D?line=1'>2</a>\u001b[0m     users_items, \u001b[39m'\u001b[39m\u001b[39mitems\u001b[39m\u001b[39m'\u001b[39m, [\u001b[39m'\u001b[39m\u001b[39muser_id\u001b[39m\u001b[39m'\u001b[39m, \u001b[39m'\u001b[39m\u001b[39mitems_count\u001b[39m\u001b[39m'\u001b[39m, \u001b[39m'\u001b[39m\u001b[39msteam_id\u001b[39m\u001b[39m'\u001b[39m, \u001b[39m'\u001b[39m\u001b[39muser_url\u001b[39m\u001b[39m'\u001b[39m]\n\u001b[0;32m      <a href='vscode-notebook-cell:/c%3A/Users/PC/Desktop/PI%20MLOps%20-%20STEAM/apertura_archivos.ipynb#X26sZmlsZQ%3D%3D?line=2'>3</a>\u001b[0m )\n\u001b[0;32m      <a href='vscode-notebook-cell:/c%3A/Users/PC/Desktop/PI%20MLOps%20-%20STEAM/apertura_archivos.ipynb#X26sZmlsZQ%3D%3D?line=3'>4</a>\u001b[0m \u001b[39m#2m 45.8 / 3m 46.4\u001b[39;00m\n",
      "\u001b[1;31mNameError\u001b[0m: name 'pd' is not defined"
     ]
    }
   ],
   "source": [
    "df_items = pd.json_normalize(\n",
    "    users_items, 'items', ['user_id', 'items_count', 'steam_id', 'user_url']\n",
    ")\n",
    "#2m 45.8 / 3m 46.4"
   ]
  },
  {
   "cell_type": "code",
   "execution_count": 105,
   "metadata": {},
   "outputs": [],
   "source": [
    "df_items = pd.json_normalize(\n",
    "    users_items, 'items', ['user_id']\n",
    ")"
   ]
  },
  {
   "cell_type": "code",
   "execution_count": 104,
   "metadata": {},
   "outputs": [],
   "source": [
    "del df_items"
   ]
  },
  {
   "cell_type": "code",
   "execution_count": 1,
   "metadata": {},
   "outputs": [
    {
     "ename": "NameError",
     "evalue": "name 'df_reviews' is not defined",
     "output_type": "error",
     "traceback": [
      "\u001b[1;31m---------------------------------------------------------------------------\u001b[0m",
      "\u001b[1;31mNameError\u001b[0m                                 Traceback (most recent call last)",
      "\u001b[1;32mc:\\Users\\PC\\Desktop\\PI MLOps - STEAM\\apertura_archivos.ipynb Cell 22\u001b[0m line \u001b[0;36m1\n\u001b[1;32m----> <a href='vscode-notebook-cell:/c%3A/Users/PC/Desktop/PI%20MLOps%20-%20STEAM/apertura_archivos.ipynb#X30sZmlsZQ%3D%3D?line=0'>1</a>\u001b[0m df_reviews\u001b[39m.\u001b[39mhead()\n",
      "\u001b[1;31mNameError\u001b[0m: name 'df_reviews' is not defined"
     ]
    }
   ],
   "source": [
    "df_reviews.head()"
   ]
  },
  {
   "cell_type": "code",
   "execution_count": 24,
   "metadata": {},
   "outputs": [
    {
     "data": {
      "text/html": [
       "<div>\n",
       "<style scoped>\n",
       "    .dataframe tbody tr th:only-of-type {\n",
       "        vertical-align: middle;\n",
       "    }\n",
       "\n",
       "    .dataframe tbody tr th {\n",
       "        vertical-align: top;\n",
       "    }\n",
       "\n",
       "    .dataframe thead th {\n",
       "        text-align: right;\n",
       "    }\n",
       "</style>\n",
       "<table border=\"1\" class=\"dataframe\">\n",
       "  <thead>\n",
       "    <tr style=\"text-align: right;\">\n",
       "      <th></th>\n",
       "      <th>item_id</th>\n",
       "      <th>item_name</th>\n",
       "      <th>playtime_forever</th>\n",
       "      <th>playtime_2weeks</th>\n",
       "      <th>user_id</th>\n",
       "      <th>items_count</th>\n",
       "      <th>steam_id</th>\n",
       "      <th>user_url</th>\n",
       "    </tr>\n",
       "  </thead>\n",
       "  <tbody>\n",
       "    <tr>\n",
       "      <th>0</th>\n",
       "      <td>10</td>\n",
       "      <td>Counter-Strike</td>\n",
       "      <td>6</td>\n",
       "      <td>0</td>\n",
       "      <td>76561197970982479</td>\n",
       "      <td>277</td>\n",
       "      <td>76561197970982479</td>\n",
       "      <td>http://steamcommunity.com/profiles/76561197970...</td>\n",
       "    </tr>\n",
       "    <tr>\n",
       "      <th>1</th>\n",
       "      <td>20</td>\n",
       "      <td>Team Fortress Classic</td>\n",
       "      <td>0</td>\n",
       "      <td>0</td>\n",
       "      <td>76561197970982479</td>\n",
       "      <td>277</td>\n",
       "      <td>76561197970982479</td>\n",
       "      <td>http://steamcommunity.com/profiles/76561197970...</td>\n",
       "    </tr>\n",
       "    <tr>\n",
       "      <th>2</th>\n",
       "      <td>30</td>\n",
       "      <td>Day of Defeat</td>\n",
       "      <td>7</td>\n",
       "      <td>0</td>\n",
       "      <td>76561197970982479</td>\n",
       "      <td>277</td>\n",
       "      <td>76561197970982479</td>\n",
       "      <td>http://steamcommunity.com/profiles/76561197970...</td>\n",
       "    </tr>\n",
       "    <tr>\n",
       "      <th>3</th>\n",
       "      <td>40</td>\n",
       "      <td>Deathmatch Classic</td>\n",
       "      <td>0</td>\n",
       "      <td>0</td>\n",
       "      <td>76561197970982479</td>\n",
       "      <td>277</td>\n",
       "      <td>76561197970982479</td>\n",
       "      <td>http://steamcommunity.com/profiles/76561197970...</td>\n",
       "    </tr>\n",
       "    <tr>\n",
       "      <th>4</th>\n",
       "      <td>50</td>\n",
       "      <td>Half-Life: Opposing Force</td>\n",
       "      <td>0</td>\n",
       "      <td>0</td>\n",
       "      <td>76561197970982479</td>\n",
       "      <td>277</td>\n",
       "      <td>76561197970982479</td>\n",
       "      <td>http://steamcommunity.com/profiles/76561197970...</td>\n",
       "    </tr>\n",
       "  </tbody>\n",
       "</table>\n",
       "</div>"
      ],
      "text/plain": [
       "  item_id                  item_name  playtime_forever  playtime_2weeks  \\\n",
       "0      10             Counter-Strike                 6                0   \n",
       "1      20      Team Fortress Classic                 0                0   \n",
       "2      30              Day of Defeat                 7                0   \n",
       "3      40         Deathmatch Classic                 0                0   \n",
       "4      50  Half-Life: Opposing Force                 0                0   \n",
       "\n",
       "             user_id items_count           steam_id  \\\n",
       "0  76561197970982479         277  76561197970982479   \n",
       "1  76561197970982479         277  76561197970982479   \n",
       "2  76561197970982479         277  76561197970982479   \n",
       "3  76561197970982479         277  76561197970982479   \n",
       "4  76561197970982479         277  76561197970982479   \n",
       "\n",
       "                                            user_url  \n",
       "0  http://steamcommunity.com/profiles/76561197970...  \n",
       "1  http://steamcommunity.com/profiles/76561197970...  \n",
       "2  http://steamcommunity.com/profiles/76561197970...  \n",
       "3  http://steamcommunity.com/profiles/76561197970...  \n",
       "4  http://steamcommunity.com/profiles/76561197970...  "
      ]
     },
     "execution_count": 24,
     "metadata": {},
     "output_type": "execute_result"
    }
   ],
   "source": [
    "df_items.head()"
   ]
  },
  {
   "cell_type": "code",
   "execution_count": 14,
   "metadata": {},
   "outputs": [],
   "source": [
    "#creamos copias por seguridad\n",
    "df_reviews_1 = df_reviews.copy()\n",
    "df_games_1 = df_games.copy()\n",
    "df_items_1 = df_items.copy()"
   ]
  },
  {
   "cell_type": "markdown",
   "metadata": {},
   "source": [
    "3.0  **ELIMINAR COLUMNAS INECESARIAS**"
   ]
  },
  {
   "cell_type": "markdown",
   "metadata": {},
   "source": [
    "3.1 *REVIEWS*"
   ]
  },
  {
   "cell_type": "code",
   "execution_count": 290,
   "metadata": {},
   "outputs": [],
   "source": [
    "colums_a_eliminar_reviews = ['user_url','funny','helpful']\n",
    "df_reviews_1 = df_reviews.drop(columns = colums_a_eliminar_reviews, axis = 1)"
   ]
  },
  {
   "cell_type": "markdown",
   "metadata": {},
   "source": [
    "3.2 *GAMES*"
   ]
  },
  {
   "cell_type": "code",
   "execution_count": 142,
   "metadata": {},
   "outputs": [],
   "source": [
    "df_games_1 = df_games_anidado.drop(columns = ['publisher','url','discount_price','price','early_access','tags','reviews_url','specs','app_name','title','metascore','developer','user_id','steam_id','items','items_count'], axis = 1)"
   ]
  },
  {
   "cell_type": "code",
   "execution_count": 56,
   "metadata": {},
   "outputs": [],
   "source": [
    "#aqui elimino la fila de un id que todos sus valores son NaN y los NaN de Id\n",
    "mascara_id_nan = df_games_1['id'] == '773570'\n",
    "df_games_1 = df_games_1[~(mascara_id_nan | df_games_1['id'].isna())]"
   ]
  },
  {
   "cell_type": "markdown",
   "metadata": {},
   "source": [
    "3281 missing en genres"
   ]
  },
  {
   "cell_type": "code",
   "execution_count": 58,
   "metadata": {},
   "outputs": [],
   "source": [
    "#aqui elimino los valores NaN de Genres\n",
    "df_games_1 = df_games_1.dropna(subset=['genres'])"
   ]
  },
  {
   "cell_type": "code",
   "execution_count": 89,
   "metadata": {},
   "outputs": [
    {
     "data": {
      "text/html": [
       "<div>\n",
       "<style scoped>\n",
       "    .dataframe tbody tr th:only-of-type {\n",
       "        vertical-align: middle;\n",
       "    }\n",
       "\n",
       "    .dataframe tbody tr th {\n",
       "        vertical-align: top;\n",
       "    }\n",
       "\n",
       "    .dataframe thead th {\n",
       "        text-align: right;\n",
       "    }\n",
       "</style>\n",
       "<table border=\"1\" class=\"dataframe\">\n",
       "  <thead>\n",
       "    <tr style=\"text-align: right;\">\n",
       "      <th></th>\n",
       "      <th>genres</th>\n",
       "      <th>app_name</th>\n",
       "      <th>title</th>\n",
       "      <th>release_date</th>\n",
       "      <th>id</th>\n",
       "    </tr>\n",
       "  </thead>\n",
       "  <tbody>\n",
       "    <tr>\n",
       "      <th>90890</th>\n",
       "      <td>[Action, Indie]</td>\n",
       "      <td>NaN</td>\n",
       "      <td>NaN</td>\n",
       "      <td>2014-08-26</td>\n",
       "      <td>317160</td>\n",
       "    </tr>\n",
       "  </tbody>\n",
       "</table>\n",
       "</div>"
      ],
      "text/plain": [
       "                genres app_name title release_date      id\n",
       "90890  [Action, Indie]      NaN   NaN   2014-08-26  317160"
      ]
     },
     "execution_count": 89,
     "metadata": {},
     "output_type": "execute_result"
    }
   ],
   "source": [
    "# Crear una máscara booleana para identificar las filas con valores nulos\n",
    "filas_con_nulos = df_games_1.isna().any(axis=1)\n",
    "# Filtrar el DataFrame original para ver las filas con valores nulos\n",
    "df_con_nulos = df_games_1[filas_con_nulos]\n",
    "df_con_nulos"
   ]
  },
  {
   "cell_type": "code",
   "execution_count": 78,
   "metadata": {},
   "outputs": [
    {
     "data": {
      "text/plain": [
       "0    2012-10-16\n",
       "Name: release_date, dtype: object"
      ]
     },
     "execution_count": 78,
     "metadata": {},
     "output_type": "execute_result"
    }
   ],
   "source": [
    "#Necesito llenar los valores vacios de fecha, para esto voy a utilizar la moda, ya que las probabilidades de que este juego haya salido en la fecha mas recurrente es más alta.\n",
    "#Primero visualizamos la metrica para esta columna\n",
    "df_games_1['release_date'].mode()"
   ]
  },
  {
   "cell_type": "code",
   "execution_count": 88,
   "metadata": {},
   "outputs": [],
   "source": [
    "#ahora aplicamos hacemos el reemplazo en aquellos valores null\n",
    "mode_data = df_games_1['release_date'].mode().iloc[0]\n",
    "df_games_1['release_date'].fillna(mode_data, inplace=True)"
   ]
  },
  {
   "cell_type": "code",
   "execution_count": 9,
   "metadata": {},
   "outputs": [],
   "source": [
    "#como no lo esta desanidando entonces voy a agregar un paso más, voy a convertir las cadenas en listas utilizando ast.literal_eval\n",
    "df_games_1['genres'] = df_games_1['genres'].apply(ast.literal_eval)"
   ]
  },
  {
   "cell_type": "code",
   "execution_count": 11,
   "metadata": {},
   "outputs": [
    {
     "data": {
      "text/plain": [
       "list"
      ]
     },
     "execution_count": 11,
     "metadata": {},
     "output_type": "execute_result"
    }
   ],
   "source": [
    "#vamos a ver que type nos toma despues de hacer el comando anterior\n",
    "type(df_games_1['genres'][0])\n",
    "#ahora ya podremos hacer el explode(), antes lo tomaba como str"
   ]
  },
  {
   "cell_type": "code",
   "execution_count": 12,
   "metadata": {},
   "outputs": [],
   "source": [
    "#Ahora desanidaremos las columnas que estan anidadas en el df en la columna de genres, asi nos queda limpio\n",
    "df_games_1 = df_games_1.explode('genres')"
   ]
  },
  {
   "cell_type": "code",
   "execution_count": 14,
   "metadata": {},
   "outputs": [],
   "source": [
    "#cambiamos el nombre de la columna id de games por item_id, ya que todos estan identificados de esta forma\n",
    "df_games_1.rename(columns={'id': 'item_id'}, inplace=True)"
   ]
  },
  {
   "cell_type": "markdown",
   "metadata": {},
   "source": [
    "3.3 *ITEMS*"
   ]
  },
  {
   "cell_type": "code",
   "execution_count": 276,
   "metadata": {},
   "outputs": [
    {
     "name": "stdout",
     "output_type": "stream",
     "text": [
      "<class 'pandas.core.frame.DataFrame'>\n",
      "RangeIndex: 3285246 entries, 0 to 3285245\n",
      "Data columns (total 3 columns):\n",
      " #   Column            Dtype \n",
      "---  ------            ----- \n",
      " 0   item_id           int64 \n",
      " 1   playtime_forever  int64 \n",
      " 2   user_id           object\n",
      "dtypes: int64(2), object(1)\n",
      "memory usage: 75.2+ MB\n"
     ]
    }
   ],
   "source": [
    "df_items_1.info()"
   ]
  },
  {
   "cell_type": "code",
   "execution_count": 275,
   "metadata": {},
   "outputs": [],
   "source": [
    "#columnas a eliminar, que no necesitaremos\n",
    "columnas_a_eliminar = ['item_name','playtime_2weeks']\n",
    "df_items_1 = df_items_1.drop(columns = columnas_a_eliminar, axis = 1)"
   ]
  },
  {
   "cell_type": "code",
   "execution_count": 278,
   "metadata": {},
   "outputs": [],
   "source": [
    "#eliminamos las filas con 0 time jugado en items\n",
    "df_items_1 = df_items_1[df_items_1['playtime_forever'] != 0]"
   ]
  },
  {
   "cell_type": "markdown",
   "metadata": {},
   "source": [
    "**PASAR MIS DF A ARCHIVOS CSV PARA QUE SEA MAS OPTIMO**"
   ]
  },
  {
   "cell_type": "code",
   "execution_count": 20,
   "metadata": {},
   "outputs": [],
   "source": [
    "df_reviews_1.to_csv('reviews.csv', index=False)\n",
    "df_games_4.to_csv('games_complemento_ml.csv', index=False)\n",
    "df_items_1.to_csv('items_v4.0_con_3_columnas.csv', index=False)"
   ]
  },
  {
   "cell_type": "code",
   "execution_count": 23,
   "metadata": {},
   "outputs": [
    {
     "name": "stdout",
     "output_type": "stream",
     "text": [
      "<class 'pandas.core.frame.DataFrame'>\n",
      "RangeIndex: 59305 entries, 0 to 59304\n",
      "Data columns (total 7 columns):\n",
      " #   Column       Non-Null Count  Dtype \n",
      "---  ------       --------------  ----- \n",
      " 0   posted       59305 non-null  object\n",
      " 1   last_edited  59305 non-null  object\n",
      " 2   item_id      59305 non-null  object\n",
      " 3   helpful      59305 non-null  object\n",
      " 4   recommend    59305 non-null  bool  \n",
      " 5   review       59305 non-null  object\n",
      " 6   user_id      59305 non-null  object\n",
      "dtypes: bool(1), object(6)\n",
      "memory usage: 2.8+ MB\n"
     ]
    }
   ],
   "source": [
    "df_reviews_1.info()"
   ]
  },
  {
   "cell_type": "code",
   "execution_count": 28,
   "metadata": {},
   "outputs": [
    {
     "name": "stdout",
     "output_type": "stream",
     "text": [
      "<class 'pandas.core.frame.DataFrame'>\n",
      "Index: 71552 entries, 0 to 28850\n",
      "Data columns (total 3 columns):\n",
      " #   Column        Non-Null Count  Dtype \n",
      "---  ------        --------------  ----- \n",
      " 0   genres        71552 non-null  object\n",
      " 1   release_date  71552 non-null  object\n",
      " 2   item_id       71552 non-null  int64 \n",
      "dtypes: int64(1), object(2)\n",
      "memory usage: 2.2+ MB\n"
     ]
    }
   ],
   "source": [
    "df_games_1.info()"
   ]
  },
  {
   "cell_type": "code",
   "execution_count": 39,
   "metadata": {},
   "outputs": [
    {
     "data": {
      "text/plain": [
       "'Soon..'"
      ]
     },
     "execution_count": 39,
     "metadata": {},
     "output_type": "execute_result"
    }
   ],
   "source": [
    "df_games_1['release_date'].iloc[36]"
   ]
  },
  {
   "cell_type": "code",
   "execution_count": 269,
   "metadata": {},
   "outputs": [
    {
     "data": {
      "text/html": [
       "<div>\n",
       "<style scoped>\n",
       "    .dataframe tbody tr th:only-of-type {\n",
       "        vertical-align: middle;\n",
       "    }\n",
       "\n",
       "    .dataframe tbody tr th {\n",
       "        vertical-align: top;\n",
       "    }\n",
       "\n",
       "    .dataframe thead th {\n",
       "        text-align: right;\n",
       "    }\n",
       "</style>\n",
       "<table border=\"1\" class=\"dataframe\">\n",
       "  <thead>\n",
       "    <tr style=\"text-align: right;\">\n",
       "      <th></th>\n",
       "      <th>item_id</th>\n",
       "      <th>playtime_forever</th>\n",
       "    </tr>\n",
       "  </thead>\n",
       "  <tbody>\n",
       "    <tr>\n",
       "      <th>0</th>\n",
       "      <td>10</td>\n",
       "      <td>6</td>\n",
       "    </tr>\n",
       "    <tr>\n",
       "      <th>1</th>\n",
       "      <td>30</td>\n",
       "      <td>7</td>\n",
       "    </tr>\n",
       "    <tr>\n",
       "      <th>2</th>\n",
       "      <td>300</td>\n",
       "      <td>4733</td>\n",
       "    </tr>\n",
       "    <tr>\n",
       "      <th>3</th>\n",
       "      <td>240</td>\n",
       "      <td>1853</td>\n",
       "    </tr>\n",
       "    <tr>\n",
       "      <th>4</th>\n",
       "      <td>3830</td>\n",
       "      <td>333</td>\n",
       "    </tr>\n",
       "  </tbody>\n",
       "</table>\n",
       "</div>"
      ],
      "text/plain": [
       "   item_id  playtime_forever\n",
       "0       10                 6\n",
       "1       30                 7\n",
       "2      300              4733\n",
       "3      240              1853\n",
       "4     3830               333"
      ]
     },
     "execution_count": 269,
     "metadata": {},
     "output_type": "execute_result"
    }
   ],
   "source": [
    "df_items_1.head()"
   ]
  },
  {
   "cell_type": "code",
   "execution_count": 136,
   "metadata": {},
   "outputs": [
    {
     "name": "stdout",
     "output_type": "stream",
     "text": [
      "<class 'pandas.core.frame.DataFrame'>\n",
      "Index: 3285246 entries, 0 to 5153208\n",
      "Data columns (total 4 columns):\n",
      " #   Column            Dtype \n",
      "---  ------            ----- \n",
      " 0   item_id           object\n",
      " 1   item_name         object\n",
      " 2   playtime_forever  int64 \n",
      " 3   user_id           object\n",
      "dtypes: int64(1), object(3)\n",
      "memory usage: 125.3+ MB\n"
     ]
    }
   ],
   "source": [
    "df_items_1.info()"
   ]
  },
  {
   "cell_type": "markdown",
   "metadata": {},
   "source": [
    "**ETL GAMES**"
   ]
  },
  {
   "cell_type": "markdown",
   "metadata": {},
   "source": [
    "*VAMOS A NORMALIZAR FECHA*"
   ]
  },
  {
   "cell_type": "code",
   "execution_count": 229,
   "metadata": {},
   "outputs": [],
   "source": [
    "df_games_2 = df_games_1.copy()"
   ]
  },
  {
   "cell_type": "code",
   "execution_count": 33,
   "metadata": {},
   "outputs": [
    {
     "data": {
      "text/plain": [
       "pandas.core.series.Series"
      ]
     },
     "execution_count": 33,
     "metadata": {},
     "output_type": "execute_result"
    }
   ],
   "source": [
    "#verificampos cual es el tipo de dato que esta almacenado en la columna de release_date\n",
    "type(df_games_2['release_date'][0])"
   ]
  },
  {
   "cell_type": "code",
   "execution_count": 245,
   "metadata": {},
   "outputs": [
    {
     "data": {
      "text/html": [
       "<div>\n",
       "<style scoped>\n",
       "    .dataframe tbody tr th:only-of-type {\n",
       "        vertical-align: middle;\n",
       "    }\n",
       "\n",
       "    .dataframe tbody tr th {\n",
       "        vertical-align: top;\n",
       "    }\n",
       "\n",
       "    .dataframe thead th {\n",
       "        text-align: right;\n",
       "    }\n",
       "</style>\n",
       "<table border=\"1\" class=\"dataframe\">\n",
       "  <thead>\n",
       "    <tr style=\"text-align: right;\">\n",
       "      <th></th>\n",
       "      <th>Fecha_mal_tipeada</th>\n",
       "      <th>Cantidad</th>\n",
       "    </tr>\n",
       "  </thead>\n",
       "  <tbody>\n",
       "  </tbody>\n",
       "</table>\n",
       "</div>"
      ],
      "text/plain": [
       "Empty DataFrame\n",
       "Columns: [Fecha_mal_tipeada, Cantidad]\n",
       "Index: []"
      ]
     },
     "execution_count": 245,
     "metadata": {},
     "output_type": "execute_result"
    }
   ],
   "source": [
    "#Verificamos cuantos valores malos hay\n",
    "import re\n",
    "from collections import defaultdict\n",
    "\n",
    "# Lista de strings a buscar\n",
    "strings_a_buscar = [\n",
    "    'Jun 2009', 'Oct 2010', 'Feb 2011', 'Aug 2014', 'Sep 2014', 'Apr 2015', 'Apr 2016', 'Jul 2016', 'June 2016', 'Q2 2017',\n",
    "    'Q2 2018', 'Winter 2017', 'Mar 2018', '14 July', 'Jul 2017', 'Summer 2017', 'Spring 2018', 'Winter 2018', 'October 2017',\n",
    "    'Fall 2017', 'Nov 2017', 'Q1 2018', 'Dec 2017', 'Январь 2018', 'First quarter of 2018', 'H2 2018', \"21 Jun, 2017\",\n",
    "    '2018年初頭発売予定', 'Feb 2018', 'August 2017', '2018 [Now get free Pre Alpha]', '1st Quarter 2018', '2018年1月',\n",
    "    'Fall 2018', 'Spring 2017', 'January 2019', 'Q4 2017', 'Early 2018', 'Q2 2018 (Tentative)', 'Coming 2017',\n",
    "    '2017 Q4', 'August 2018', 'Early Spring 2018', 'TBA 2017', 'Aug 2017', 'Coming Q1 2018', 'December 2017',\n",
    "    'Coming Q3 2017', 'Early 2017', 'End 2017', 'Q1 2017', 'Jan 2017', 'January 2017', \"When it's done (2017)\",\n",
    "    \"Q1 (ish) 2017\", 'Nov 2016', 'Oct 2016', 'Jun 2016', 'Jun 2015', 'May 2015', 'Feb 2015', 'Jan 2015', 'Nov 2014',\n",
    "    'Jul 2014', 'May 2014', 'Feb 2013', 'Dec 2012', 'Jul 2010', 'Mar 2010', 'Jan 2010', 'Oct 2009', 'Sep 2009',\n",
    "    'Late 2016 - Early 2017', 'Coming late 2017', 'Hitting Early Access in 2017', '2018 early', \"Q1, 2018\", 'January 2018'\n",
    "]\n",
    "\n",
    "# Función para contar las ocurrencias de las palabras en 'release_date' y devolver un diccionario\n",
    "def contar_ocurrencias_strings(df, strings):\n",
    "    # Crear un diccionario para almacenar el recuento de cada palabra\n",
    "    recuento_palabras = defaultdict(int)\n",
    "\n",
    "    # Crear un patrón de expresión regular con las cadenas a buscar\n",
    "    patron = '|'.join(re.escape(s) for s in strings)\n",
    "\n",
    "    # Utilizar str.contains() para buscar las ocurrencias en 'release_date'\n",
    "    ocurrencias = df['release_date'].str.extractall(f'({patron})').groupby(0).size()\n",
    "\n",
    "    # Convertir el resultado en un diccionario\n",
    "    recuento_palabras.update(ocurrencias.to_dict())\n",
    "\n",
    "    return recuento_palabras\n",
    "\n",
    "# Llamar a la función para contar las ocurrencias\n",
    "recuento = contar_ocurrencias_strings(df_games_2, strings_a_buscar)\n",
    "data = {\n",
    "    'Fecha_mal_tipeada' : list(recuento.keys()),\n",
    "    'Cantidad' : list(recuento.values())\n",
    "}\n",
    "df_recuento = pd.DataFrame(data)\n",
    "df_recuento.head()"
   ]
  },
  {
   "cell_type": "code",
   "execution_count": 244,
   "metadata": {},
   "outputs": [],
   "source": [
    "diccionario_limpiado = {\n",
    "    'Jun 2009': '2009-06-01',\n",
    "    'Oct 2010': '2010-10-01',\n",
    "    'Feb 2011': '2011-02-01',\n",
    "    'Aug 2014': '2014-08-01',\n",
    "    'Sep 2014': '2014-09-01',\n",
    "    'Apr 2015': '2015-04-01',\n",
    "    'Apr 2016': '2016-04-01',\n",
    "    'Jul 2016': '2016-07-01',\n",
    "    'June 2016': '2016-06-01',\n",
    "    'Q2 2017': '2017-02-16',\n",
    "    'Q2 2018': '2018-02-16',\n",
    "    'Winter 2017': '2017-01-01',\n",
    "    'Mar 2018': '2018-03-01',\n",
    "    '14 July': '2017-07-01',\n",
    "    'Jul 2017': '2017-07-01',\n",
    "    'Summer 2017': '2017-07-01',\n",
    "    'Spring 2018': '2018-04-01',\n",
    "    'Winter 2018': '2018-01-01',\n",
    "    'October 2017': '2017-10-01',\n",
    "    'Fall 2017': '2017-09-01',\n",
    "    'Nov 2017': '2017-11-01',\n",
    "    'Q1 2018': '2018-01-16',\n",
    "    'Dec 2017': '2017-12-01',\n",
    "    'Январь 2018': '2018-01-01',\n",
    "    'First quarter of 2018': '2018-01-16',\n",
    "    'H2 2018': '2018-07-16',\n",
    "    \"21 Jun, 2017\": '2017-06-21',\n",
    "    '2018年初頭発売予定': '2018-01-01',\n",
    "    'Feb 2018': '2018-02-01',\n",
    "    'August 2017': '2017-08-01',\n",
    "    '2018 [Now get free Pre Alpha]': '2018-01-01',\n",
    "    '1st Quarter 2018': '2018-01-16',\n",
    "    '2018年1月': '2018-01-01',\n",
    "    'Fall 2018': '2018-09-01',\n",
    "    'Spring 2017': '2017-04-01',\n",
    "    'January 2019': '2019-01-01',\n",
    "    'Q4 2017': '2017-04-16',\n",
    "    'Early 2018': '2018-01-01',\n",
    "    'Q2 2018 (Tentative)': '2018-02-16',\n",
    "    'Coming 2017': '2017-01-01',\n",
    "    '2017 Q4': '2017-04-01',\n",
    "    'August 2018': '2018-08-01',\n",
    "    'Early Spring 2018': '2018-03-01',\n",
    "    'TBA 2017': '2017-01-01',\n",
    "    'Aug 2017': '2017-08-01',\n",
    "    'Coming Q1 2018': '2018-01-01',\n",
    "    'December 2017': '2017-12-01',\n",
    "    'Coming Q3 2017': '2017-03-01',\n",
    "    'Early 2017': '2017-01-01',\n",
    "    'End 2017': '2017-12-01',\n",
    "    'Q1 2017': '2017-01-16',\n",
    "    'Jan 2017': '2017-01-01',\n",
    "    'January 2017': '2017-01-01',\n",
    "    \"When it's done (2017)\": '2017-01-01',\n",
    "    \"Q1 (ish) 2017\": '2017-01-16',\n",
    "    'Nov 2016': '2016-11-01',\n",
    "    'Oct 2016': '2016-10-01',\n",
    "    'Jun 2016': '2016-06-01',\n",
    "    'Jun 2015': '2015-06-01',\n",
    "    'May 2015': '2015-05-01',\n",
    "    'Feb 2015': '2015-02-01',\n",
    "    'Jan 2015': '2015-01-01',\n",
    "    'Nov 2014': '2014-11-01',\n",
    "    'Jul 2014': '2014-07-01',\n",
    "    'May 2014': '2014-05-01',\n",
    "    'Feb 2013': '2013-02-01',\n",
    "    'Dec 2012': '2012-12-01',\n",
    "    'Jul 2010': '2010-07-01',\n",
    "    'Mar 2010': '2010-03-01',\n",
    "    'Jan 2010': '2010-01-01',\n",
    "    'Oct 2009': '2009-10-01',\n",
    "    'Sep 2009': '2009-09-01',\n",
    "    'Late 2016 - Early 2017': '2017-01-01',\n",
    "    'Coming late 2017': '2017-12-01',\n",
    "    'Hitting Early Access in 2017': '2017-01-01',\n",
    "    '2018 early': '2018-01-01',\n",
    "    \"Q1, 2018\": '2018-02-16',\n",
    "    'January 2018': '2018-01-01',\n",
    "    'Fall 2017' : '2017-09-01',\n",
    "    'Coming Fall 2017':'2017-09-01',\n",
    "    'Aug 2015': '2015-08-01',\n",
    "    'Q1 (ish), 2017': '2017-01-16',\n",
    "    '2017 Q1': '2017-01-16',\n",
    "    '2017 Q1':'2017-01-16',\n",
    "    'Apr 2017':'2017-04-01',\n",
    "    'Oct 2017':'2017-10-01',\n",
    "    'Jan 2018': '2018-01-01',\n",
    "    '15.01.2018' : '2018-01-15'\n",
    "}\n",
    "\n",
    "# Reemplazar los valores en la columna 'release_date'\n",
    "df_games_2['release_date'] = df_games_2['release_date'].replace(diccionario_limpiado)"
   ]
  },
  {
   "cell_type": "code",
   "execution_count": 236,
   "metadata": {},
   "outputs": [
    {
     "name": "stdout",
     "output_type": "stream",
     "text": [
      "<class 'pandas.core.frame.DataFrame'>\n",
      "Index: 71552 entries, 0 to 28850\n",
      "Data columns (total 3 columns):\n",
      " #   Column        Non-Null Count  Dtype \n",
      "---  ------        --------------  ----- \n",
      " 0   genres        71552 non-null  object\n",
      " 1   release_date  71552 non-null  object\n",
      " 2   item_id       71552 non-null  int64 \n",
      "dtypes: int64(1), object(2)\n",
      "memory usage: 4.2+ MB\n"
     ]
    }
   ],
   "source": [
    "df_games_2.info()"
   ]
  },
  {
   "cell_type": "code",
   "execution_count": 237,
   "metadata": {},
   "outputs": [],
   "source": [
    "#Antes que nada transformamos los valores de 'release_date' que solamente tengan año, es decir, un formato 'YYYY', para agregarle un '-01-01'. Como solo tiene el año podemos deducir que lo hicieron el primer dia del primer mes por eso no se coloco el resto, o tal vez fue un error de tipeo pero, vamos a hacerlo de esta manera para evitar que a la hora de cambiarlo de tipo de valor no tengamos valores vacios.\n",
    "#df_games_2 = df_games_2[df_games_2['release_date'].str.match(r'\\d{4}')]\n",
    "df_games_2['release_date'] = df_games_2['release_date'].str.replace(r'^(\\d{4})$', r'\\1-01-01', regex=True)"
   ]
  },
  {
   "cell_type": "code",
   "execution_count": 238,
   "metadata": {},
   "outputs": [
    {
     "data": {
      "text/html": [
       "<div>\n",
       "<style scoped>\n",
       "    .dataframe tbody tr th:only-of-type {\n",
       "        vertical-align: middle;\n",
       "    }\n",
       "\n",
       "    .dataframe tbody tr th {\n",
       "        vertical-align: top;\n",
       "    }\n",
       "\n",
       "    .dataframe thead th {\n",
       "        text-align: right;\n",
       "    }\n",
       "</style>\n",
       "<table border=\"1\" class=\"dataframe\">\n",
       "  <thead>\n",
       "    <tr style=\"text-align: right;\">\n",
       "      <th></th>\n",
       "      <th>genres</th>\n",
       "      <th>release_date</th>\n",
       "      <th>item_id</th>\n",
       "    </tr>\n",
       "  </thead>\n",
       "  <tbody>\n",
       "    <tr>\n",
       "      <th>0</th>\n",
       "      <td>Action</td>\n",
       "      <td>2018-01-04</td>\n",
       "      <td>761140</td>\n",
       "    </tr>\n",
       "    <tr>\n",
       "      <th>0</th>\n",
       "      <td>Casual</td>\n",
       "      <td>2018-01-04</td>\n",
       "      <td>761140</td>\n",
       "    </tr>\n",
       "    <tr>\n",
       "      <th>0</th>\n",
       "      <td>Indie</td>\n",
       "      <td>2018-01-04</td>\n",
       "      <td>761140</td>\n",
       "    </tr>\n",
       "    <tr>\n",
       "      <th>0</th>\n",
       "      <td>Simulation</td>\n",
       "      <td>2018-01-04</td>\n",
       "      <td>761140</td>\n",
       "    </tr>\n",
       "    <tr>\n",
       "      <th>0</th>\n",
       "      <td>Strategy</td>\n",
       "      <td>2018-01-04</td>\n",
       "      <td>761140</td>\n",
       "    </tr>\n",
       "  </tbody>\n",
       "</table>\n",
       "</div>"
      ],
      "text/plain": [
       "       genres release_date  item_id\n",
       "0      Action   2018-01-04   761140\n",
       "0      Casual   2018-01-04   761140\n",
       "0       Indie   2018-01-04   761140\n",
       "0  Simulation   2018-01-04   761140\n",
       "0    Strategy   2018-01-04   761140"
      ]
     },
     "execution_count": 238,
     "metadata": {},
     "output_type": "execute_result"
    }
   ],
   "source": [
    "df_games_2.head()"
   ]
  },
  {
   "cell_type": "code",
   "execution_count": 246,
   "metadata": {},
   "outputs": [],
   "source": [
    "# Hay valores no validos dentro de esta columna, como por ejemplo 'Soon...', y estos tipos de valores no me permiten aplicar un pd.to_datatime(), entonces lo que haré será filtrar las filas con valores de fecha válidos o solo el año\n",
    "df_games_3 = df_games_2[df_games_2['release_date'].str.match(r'\\d{4}(-\\d{2}-\\d{2})?')]"
   ]
  },
  {
   "cell_type": "code",
   "execution_count": 247,
   "metadata": {},
   "outputs": [
    {
     "name": "stdout",
     "output_type": "stream",
     "text": [
      "<class 'pandas.core.frame.DataFrame'>\n",
      "Index: 71265 entries, 0 to 28850\n",
      "Data columns (total 3 columns):\n",
      " #   Column        Non-Null Count  Dtype \n",
      "---  ------        --------------  ----- \n",
      " 0   genres        71265 non-null  object\n",
      " 1   release_date  71265 non-null  object\n",
      " 2   item_id       71265 non-null  int64 \n",
      "dtypes: int64(1), object(2)\n",
      "memory usage: 2.2+ MB\n"
     ]
    }
   ],
   "source": [
    "#Hay 287 datos con un formato incorrecto\n",
    "df_games_3.info()"
   ]
  },
  {
   "cell_type": "markdown",
   "metadata": {},
   "source": [
    "*Todos estos datos no tienen ninguna fecha, lo unico que dice es que saldran muy pronto, por ende, lo vamos a descartar pero queda resgistrado cuales son y se pueden visualizar*"
   ]
  },
  {
   "cell_type": "code",
   "execution_count": 248,
   "metadata": {},
   "outputs": [],
   "source": [
    "#quiero guardar en df esos valores incorrectos para poder verlos y poder hacer un cambio\n",
    "mascara_formato_incorrecto = ~df_games_2['release_date'].str.match(r'^\\d{4}(-\\d{2}-\\d{2})?$')\n",
    "df_formato_incorrecto = df_games_2[mascara_formato_incorrecto]"
   ]
  },
  {
   "cell_type": "code",
   "execution_count": 249,
   "metadata": {},
   "outputs": [
    {
     "data": {
      "text/html": [
       "<div>\n",
       "<style scoped>\n",
       "    .dataframe tbody tr th:only-of-type {\n",
       "        vertical-align: middle;\n",
       "    }\n",
       "\n",
       "    .dataframe tbody tr th {\n",
       "        vertical-align: top;\n",
       "    }\n",
       "\n",
       "    .dataframe thead th {\n",
       "        text-align: right;\n",
       "    }\n",
       "</style>\n",
       "<table border=\"1\" class=\"dataframe\">\n",
       "  <thead>\n",
       "    <tr style=\"text-align: right;\">\n",
       "      <th></th>\n",
       "      <th>genres</th>\n",
       "      <th>release_date</th>\n",
       "      <th>item_id</th>\n",
       "    </tr>\n",
       "  </thead>\n",
       "  <tbody>\n",
       "    <tr>\n",
       "      <th>9</th>\n",
       "      <td>Action</td>\n",
       "      <td>Soon..</td>\n",
       "      <td>768570</td>\n",
       "    </tr>\n",
       "    <tr>\n",
       "      <th>9</th>\n",
       "      <td>Indie</td>\n",
       "      <td>Soon..</td>\n",
       "      <td>768570</td>\n",
       "    </tr>\n",
       "    <tr>\n",
       "      <th>9</th>\n",
       "      <td>Simulation</td>\n",
       "      <td>Soon..</td>\n",
       "      <td>768570</td>\n",
       "    </tr>\n",
       "    <tr>\n",
       "      <th>9</th>\n",
       "      <td>Early Access</td>\n",
       "      <td>Soon..</td>\n",
       "      <td>768570</td>\n",
       "    </tr>\n",
       "    <tr>\n",
       "      <th>36</th>\n",
       "      <td>Adventure</td>\n",
       "      <td>Beta测试已开启</td>\n",
       "      <td>714020</td>\n",
       "    </tr>\n",
       "  </tbody>\n",
       "</table>\n",
       "</div>"
      ],
      "text/plain": [
       "          genres release_date  item_id\n",
       "9         Action       Soon..   768570\n",
       "9          Indie       Soon..   768570\n",
       "9     Simulation       Soon..   768570\n",
       "9   Early Access       Soon..   768570\n",
       "36     Adventure    Beta测试已开启   714020"
      ]
     },
     "execution_count": 249,
     "metadata": {},
     "output_type": "execute_result"
    }
   ],
   "source": [
    "df_formato_incorrecto.head()"
   ]
  },
  {
   "cell_type": "code",
   "execution_count": 268,
   "metadata": {},
   "outputs": [],
   "source": [
    "#exportamos el archivo\n",
    "df_formato_incorrecto.to_csv('games_sin_fecha_ConIndex.csv',index=True)"
   ]
  },
  {
   "cell_type": "code",
   "execution_count": 250,
   "metadata": {},
   "outputs": [
    {
     "name": "stderr",
     "output_type": "stream",
     "text": [
      "C:\\Users\\PC\\AppData\\Local\\Temp\\ipykernel_10752\\4254015632.py:3: SettingWithCopyWarning: \n",
      "A value is trying to be set on a copy of a slice from a DataFrame.\n",
      "Try using .loc[row_indexer,col_indexer] = value instead\n",
      "\n",
      "See the caveats in the documentation: https://pandas.pydata.org/pandas-docs/stable/user_guide/indexing.html#returning-a-view-versus-a-copy\n",
      "  df_games_3['release_date'] = pd.to_datetime(df_games_3['release_date'], errors='coerce')\n"
     ]
    }
   ],
   "source": [
    "# Convertirmos 'release_date' a formato datetime\n",
    "# 'errors='coerce'' permite que la conversión continúe incluso si algunas filas contienen valores que no son fechas válidas. Cuando se encuentra una cadena no válida, esa fila obtiene un valor NaT en lugar de una fecha.\n",
    "df_games_3['release_date'] = pd.to_datetime(df_games_3['release_date'], errors='coerce')"
   ]
  },
  {
   "cell_type": "code",
   "execution_count": 253,
   "metadata": {},
   "outputs": [
    {
     "data": {
      "text/html": [
       "<div>\n",
       "<style scoped>\n",
       "    .dataframe tbody tr th:only-of-type {\n",
       "        vertical-align: middle;\n",
       "    }\n",
       "\n",
       "    .dataframe tbody tr th {\n",
       "        vertical-align: top;\n",
       "    }\n",
       "\n",
       "    .dataframe thead th {\n",
       "        text-align: right;\n",
       "    }\n",
       "</style>\n",
       "<table border=\"1\" class=\"dataframe\">\n",
       "  <thead>\n",
       "    <tr style=\"text-align: right;\">\n",
       "      <th></th>\n",
       "      <th>genres</th>\n",
       "      <th>release_date</th>\n",
       "      <th>item_id</th>\n",
       "    </tr>\n",
       "  </thead>\n",
       "  <tbody>\n",
       "    <tr>\n",
       "      <th>0</th>\n",
       "      <td>Action</td>\n",
       "      <td>2018-01-04</td>\n",
       "      <td>761140</td>\n",
       "    </tr>\n",
       "    <tr>\n",
       "      <th>0</th>\n",
       "      <td>Casual</td>\n",
       "      <td>2018-01-04</td>\n",
       "      <td>761140</td>\n",
       "    </tr>\n",
       "    <tr>\n",
       "      <th>0</th>\n",
       "      <td>Indie</td>\n",
       "      <td>2018-01-04</td>\n",
       "      <td>761140</td>\n",
       "    </tr>\n",
       "    <tr>\n",
       "      <th>0</th>\n",
       "      <td>Simulation</td>\n",
       "      <td>2018-01-04</td>\n",
       "      <td>761140</td>\n",
       "    </tr>\n",
       "    <tr>\n",
       "      <th>0</th>\n",
       "      <td>Strategy</td>\n",
       "      <td>2018-01-04</td>\n",
       "      <td>761140</td>\n",
       "    </tr>\n",
       "  </tbody>\n",
       "</table>\n",
       "</div>"
      ],
      "text/plain": [
       "       genres release_date  item_id\n",
       "0      Action   2018-01-04   761140\n",
       "0      Casual   2018-01-04   761140\n",
       "0       Indie   2018-01-04   761140\n",
       "0  Simulation   2018-01-04   761140\n",
       "0    Strategy   2018-01-04   761140"
      ]
     },
     "execution_count": 253,
     "metadata": {},
     "output_type": "execute_result"
    }
   ],
   "source": [
    "df_games_3.head()"
   ]
  },
  {
   "cell_type": "code",
   "execution_count": 258,
   "metadata": {},
   "outputs": [
    {
     "name": "stderr",
     "output_type": "stream",
     "text": [
      "C:\\Users\\PC\\AppData\\Local\\Temp\\ipykernel_10752\\1008890983.py:1: SettingWithCopyWarning: \n",
      "A value is trying to be set on a copy of a slice from a DataFrame.\n",
      "Try using .loc[row_indexer,col_indexer] = value instead\n",
      "\n",
      "See the caveats in the documentation: https://pandas.pydata.org/pandas-docs/stable/user_guide/indexing.html#returning-a-view-versus-a-copy\n",
      "  df_games_3['year'] = df_games_3['release_date'].dt.year\n"
     ]
    }
   ],
   "source": [
    "df_games_3['year'] = df_games_3['release_date'].dt.year\n",
    "df_games_3 = df_games_3[['item_id','genres','year','release_date']]"
   ]
  },
  {
   "cell_type": "code",
   "execution_count": 261,
   "metadata": {},
   "outputs": [],
   "source": [
    "#correccion en error de tipeo en df_games\n",
    "correccion = {\n",
    "    'Animation &amp; Modeling':'Animation and Modeling',\n",
    "    'Design &amp; Illustration': 'Design and Illustration'\n",
    "}\n",
    "# regex=True permite que los valores se reemplacen utilizando expresiones regulares, lo que garantiza que incluso si hay otros caracteres en los valores, se realizará el reemplazo correcto.\n",
    "df_games_3['genres'] = df_games_3['genres'].replace(correccion, regex=True)"
   ]
  },
  {
   "cell_type": "code",
   "execution_count": 638,
   "metadata": {},
   "outputs": [],
   "source": [
    "df_games_3.rename(columns={'year':'year_release'},inplace=True)"
   ]
  },
  {
   "cell_type": "code",
   "execution_count": 639,
   "metadata": {},
   "outputs": [
    {
     "data": {
      "text/html": [
       "<div>\n",
       "<style scoped>\n",
       "    .dataframe tbody tr th:only-of-type {\n",
       "        vertical-align: middle;\n",
       "    }\n",
       "\n",
       "    .dataframe tbody tr th {\n",
       "        vertical-align: top;\n",
       "    }\n",
       "\n",
       "    .dataframe thead th {\n",
       "        text-align: right;\n",
       "    }\n",
       "</style>\n",
       "<table border=\"1\" class=\"dataframe\">\n",
       "  <thead>\n",
       "    <tr style=\"text-align: right;\">\n",
       "      <th></th>\n",
       "      <th>item_id</th>\n",
       "      <th>genres</th>\n",
       "      <th>year_release</th>\n",
       "      <th>release_date</th>\n",
       "    </tr>\n",
       "  </thead>\n",
       "  <tbody>\n",
       "    <tr>\n",
       "      <th>0</th>\n",
       "      <td>761140</td>\n",
       "      <td>Action</td>\n",
       "      <td>2018</td>\n",
       "      <td>2018-01-04</td>\n",
       "    </tr>\n",
       "    <tr>\n",
       "      <th>0</th>\n",
       "      <td>761140</td>\n",
       "      <td>Casual</td>\n",
       "      <td>2018</td>\n",
       "      <td>2018-01-04</td>\n",
       "    </tr>\n",
       "    <tr>\n",
       "      <th>0</th>\n",
       "      <td>761140</td>\n",
       "      <td>Indie</td>\n",
       "      <td>2018</td>\n",
       "      <td>2018-01-04</td>\n",
       "    </tr>\n",
       "    <tr>\n",
       "      <th>0</th>\n",
       "      <td>761140</td>\n",
       "      <td>Simulation</td>\n",
       "      <td>2018</td>\n",
       "      <td>2018-01-04</td>\n",
       "    </tr>\n",
       "    <tr>\n",
       "      <th>0</th>\n",
       "      <td>761140</td>\n",
       "      <td>Strategy</td>\n",
       "      <td>2018</td>\n",
       "      <td>2018-01-04</td>\n",
       "    </tr>\n",
       "  </tbody>\n",
       "</table>\n",
       "</div>"
      ],
      "text/plain": [
       "   item_id      genres  year_release release_date\n",
       "0   761140      Action          2018   2018-01-04\n",
       "0   761140      Casual          2018   2018-01-04\n",
       "0   761140       Indie          2018   2018-01-04\n",
       "0   761140  Simulation          2018   2018-01-04\n",
       "0   761140    Strategy          2018   2018-01-04"
      ]
     },
     "execution_count": 639,
     "metadata": {},
     "output_type": "execute_result"
    }
   ],
   "source": [
    "df_games_3.head()"
   ]
  },
  {
   "cell_type": "markdown",
   "metadata": {},
   "source": [
    "**ETL REVIEWS**"
   ]
  },
  {
   "cell_type": "code",
   "execution_count": 303,
   "metadata": {},
   "outputs": [
    {
     "name": "stdout",
     "output_type": "stream",
     "text": [
      "<class 'pandas.core.frame.DataFrame'>\n",
      "RangeIndex: 59305 entries, 0 to 59304\n",
      "Data columns (total 6 columns):\n",
      " #   Column       Non-Null Count  Dtype \n",
      "---  ------       --------------  ----- \n",
      " 0   posted       59305 non-null  object\n",
      " 1   last_edited  59305 non-null  object\n",
      " 2   item_id      59305 non-null  object\n",
      " 3   recommend    59305 non-null  bool  \n",
      " 4   review       59305 non-null  object\n",
      " 5   user_id      59305 non-null  object\n",
      "dtypes: bool(1), object(5)\n",
      "memory usage: 2.3+ MB\n"
     ]
    }
   ],
   "source": [
    "df_reviews_1.info()"
   ]
  },
  {
   "cell_type": "code",
   "execution_count": 295,
   "metadata": {},
   "outputs": [],
   "source": [
    "# Limpiamos la columna 'posted', le vamos a sacar la palabras Posted, ya que es redundante, tambien sacaremos los puntos finales\n",
    "df_reviews_1['posted'] = df_reviews_1['posted'].str.replace('Posted ', '')\n",
    "df_reviews_1['posted'] = df_reviews_1['posted'].str.replace('.', '')"
   ]
  },
  {
   "cell_type": "code",
   "execution_count": 307,
   "metadata": {},
   "outputs": [],
   "source": [
    "#Tambien tenemos que hacer esta limpieza en la columna 'last_edited'\n",
    "df_reviews_1['last_edited'] = df_reviews_1['last_edited'].str.replace('Last edited ', '')\n",
    "df_reviews_1['last_edited'] = df_reviews_1['last_edited'].str.replace('.', '')"
   ]
  },
  {
   "cell_type": "code",
   "execution_count": 305,
   "metadata": {},
   "outputs": [
    {
     "data": {
      "text/html": [
       "<div>\n",
       "<style scoped>\n",
       "    .dataframe tbody tr th:only-of-type {\n",
       "        vertical-align: middle;\n",
       "    }\n",
       "\n",
       "    .dataframe tbody tr th {\n",
       "        vertical-align: top;\n",
       "    }\n",
       "\n",
       "    .dataframe thead th {\n",
       "        text-align: right;\n",
       "    }\n",
       "</style>\n",
       "<table border=\"1\" class=\"dataframe\">\n",
       "  <thead>\n",
       "    <tr style=\"text-align: right;\">\n",
       "      <th></th>\n",
       "      <th>posted</th>\n",
       "      <th>last_edited</th>\n",
       "      <th>item_id</th>\n",
       "      <th>recommend</th>\n",
       "      <th>review</th>\n",
       "      <th>user_id</th>\n",
       "    </tr>\n",
       "  </thead>\n",
       "  <tbody>\n",
       "    <tr>\n",
       "      <th>0</th>\n",
       "      <td>November 5, 2011</td>\n",
       "      <td></td>\n",
       "      <td>1250</td>\n",
       "      <td>True</td>\n",
       "      <td>Simple yet with great replayability. In my opi...</td>\n",
       "      <td>76561197970982479</td>\n",
       "    </tr>\n",
       "    <tr>\n",
       "      <th>1</th>\n",
       "      <td>July 15, 2011</td>\n",
       "      <td></td>\n",
       "      <td>22200</td>\n",
       "      <td>True</td>\n",
       "      <td>It's unique and worth a playthrough.</td>\n",
       "      <td>76561197970982479</td>\n",
       "    </tr>\n",
       "    <tr>\n",
       "      <th>2</th>\n",
       "      <td>April 21, 2011</td>\n",
       "      <td></td>\n",
       "      <td>43110</td>\n",
       "      <td>True</td>\n",
       "      <td>Great atmosphere. The gunplay can be a bit chu...</td>\n",
       "      <td>76561197970982479</td>\n",
       "    </tr>\n",
       "    <tr>\n",
       "      <th>3</th>\n",
       "      <td>June 24, 2014</td>\n",
       "      <td></td>\n",
       "      <td>251610</td>\n",
       "      <td>True</td>\n",
       "      <td>I know what you think when you see this title ...</td>\n",
       "      <td>js41637</td>\n",
       "    </tr>\n",
       "    <tr>\n",
       "      <th>4</th>\n",
       "      <td>September 8, 2013</td>\n",
       "      <td></td>\n",
       "      <td>227300</td>\n",
       "      <td>True</td>\n",
       "      <td>For a simple (it's actually not all that simpl...</td>\n",
       "      <td>js41637</td>\n",
       "    </tr>\n",
       "    <tr>\n",
       "      <th>5</th>\n",
       "      <td>November 29, 2013</td>\n",
       "      <td></td>\n",
       "      <td>239030</td>\n",
       "      <td>True</td>\n",
       "      <td>Very fun little game to play when your bored o...</td>\n",
       "      <td>js41637</td>\n",
       "    </tr>\n",
       "    <tr>\n",
       "      <th>6</th>\n",
       "      <td>February 3</td>\n",
       "      <td></td>\n",
       "      <td>248820</td>\n",
       "      <td>True</td>\n",
       "      <td>A suitably punishing roguelike platformer.  Wi...</td>\n",
       "      <td>evcentric</td>\n",
       "    </tr>\n",
       "    <tr>\n",
       "      <th>7</th>\n",
       "      <td>December 4, 2015</td>\n",
       "      <td>Last edited December 5, 2015.</td>\n",
       "      <td>370360</td>\n",
       "      <td>True</td>\n",
       "      <td>\"Run for fun? What the hell kind of fun is that?\"</td>\n",
       "      <td>evcentric</td>\n",
       "    </tr>\n",
       "    <tr>\n",
       "      <th>8</th>\n",
       "      <td>November 3, 2014</td>\n",
       "      <td></td>\n",
       "      <td>237930</td>\n",
       "      <td>True</td>\n",
       "      <td>Elegant integration of gameplay, story, world ...</td>\n",
       "      <td>evcentric</td>\n",
       "    </tr>\n",
       "    <tr>\n",
       "      <th>9</th>\n",
       "      <td>October 15, 2014</td>\n",
       "      <td></td>\n",
       "      <td>263360</td>\n",
       "      <td>True</td>\n",
       "      <td>Random drops and random quests, with stat poin...</td>\n",
       "      <td>evcentric</td>\n",
       "    </tr>\n",
       "  </tbody>\n",
       "</table>\n",
       "</div>"
      ],
      "text/plain": [
       "              posted                    last_edited item_id  recommend  \\\n",
       "0   November 5, 2011                                   1250       True   \n",
       "1      July 15, 2011                                  22200       True   \n",
       "2     April 21, 2011                                  43110       True   \n",
       "3      June 24, 2014                                 251610       True   \n",
       "4  September 8, 2013                                 227300       True   \n",
       "5  November 29, 2013                                 239030       True   \n",
       "6         February 3                                 248820       True   \n",
       "7   December 4, 2015  Last edited December 5, 2015.  370360       True   \n",
       "8   November 3, 2014                                 237930       True   \n",
       "9   October 15, 2014                                 263360       True   \n",
       "\n",
       "                                              review            user_id  \n",
       "0  Simple yet with great replayability. In my opi...  76561197970982479  \n",
       "1               It's unique and worth a playthrough.  76561197970982479  \n",
       "2  Great atmosphere. The gunplay can be a bit chu...  76561197970982479  \n",
       "3  I know what you think when you see this title ...            js41637  \n",
       "4  For a simple (it's actually not all that simpl...            js41637  \n",
       "5  Very fun little game to play when your bored o...            js41637  \n",
       "6  A suitably punishing roguelike platformer.  Wi...          evcentric  \n",
       "7  \"Run for fun? What the hell kind of fun is that?\"          evcentric  \n",
       "8  Elegant integration of gameplay, story, world ...          evcentric  \n",
       "9  Random drops and random quests, with stat poin...          evcentric  "
      ]
     },
     "execution_count": 305,
     "metadata": {},
     "output_type": "execute_result"
    }
   ],
   "source": [
    "df_reviews_1.head(10)"
   ]
  },
  {
   "cell_type": "code",
   "execution_count": 456,
   "metadata": {},
   "outputs": [],
   "source": [
    "df_reviews_2=df_reviews_1.copy()"
   ]
  },
  {
   "cell_type": "code",
   "execution_count": 455,
   "metadata": {},
   "outputs": [],
   "source": [
    "#A las fechas 'Febraury 29' le añadiremos el año 2016, ya que ese año si era un año bisiesto.\n",
    "df_reviews_1['posted'] = df_reviews_1['posted'].str.replace('February 29', 'February 29, 2016')"
   ]
  },
  {
   "cell_type": "code",
   "execution_count": 457,
   "metadata": {},
   "outputs": [],
   "source": [
    "from datetime import datetime\n",
    "\n",
    "# Define una función para convertir fechas en objetos datetime\n",
    "def parse_date(date_str):\n",
    "    # Intenta analizar la fecha en diferentes formatos\n",
    "    date_formats = ['%B %d, %Y', '%B %d']\n",
    "    \n",
    "    for date_format in date_formats:\n",
    "        try:\n",
    "            return datetime.strptime(date_str, date_format)\n",
    "        except ValueError:\n",
    "            continue\n",
    "    \n",
    "    # Si ninguno de los formatos coincide, devuelve None\n",
    "    return date_str"
   ]
  },
  {
   "cell_type": "code",
   "execution_count": 458,
   "metadata": {},
   "outputs": [],
   "source": [
    "df_reviews_2['posted'] = df_reviews_2['posted'].apply(parse_date)\n",
    "df_reviews_2['last_edited'] = df_reviews_2['last_edited'].apply(parse_date)"
   ]
  },
  {
   "cell_type": "code",
   "execution_count": 374,
   "metadata": {},
   "outputs": [],
   "source": [
    "#Vamos a extrer los valores que se realizo el cambio, esto lo vamos a saber porque el type de estos valores no sera datatime, sino str\n",
    "def busqueda(date_column):\n",
    "    lista = []\n",
    "    for idx, date_str in date_column.items():\n",
    "        try:\n",
    "            # Intenta analizar la fecha\n",
    "            parsed_date = pd.to_datetime(date_str, errors='coerce')\n",
    "            if pd.notna(parsed_date):\n",
    "                # La fecha se pudo analizar, continúa al siguiente elemento\n",
    "                continue\n",
    "        except:\n",
    "            pass\n",
    "        # Si no se pudo analizar la fecha o hay otro tipo de error, agrega el elemento a la lista\n",
    "        lista.append((idx, date_str))\n",
    "    return lista"
   ]
  },
  {
   "cell_type": "code",
   "execution_count": 500,
   "metadata": {},
   "outputs": [],
   "source": [
    "valores_no_convertidos = busqueda(df_sin_nulos['posted'])"
   ]
  },
  {
   "cell_type": "code",
   "execution_count": 377,
   "metadata": {},
   "outputs": [],
   "source": [
    "valores_no_convertidos_last_edited = busqueda(df_reviews_2['last_edited'])"
   ]
  },
  {
   "cell_type": "code",
   "execution_count": 376,
   "metadata": {},
   "outputs": [
    {
     "data": {
      "text/plain": [
       "[(843, 'February 29'),\n",
       " (3815, 'February 29'),\n",
       " (6835, 'February 29'),\n",
       " (7428, 'February 29'),\n",
       " (9902, 'February 29'),\n",
       " (13087, 'February 29'),\n",
       " (15481, 'February 29'),\n",
       " (15648, 'February 29'),\n",
       " (23571, 'February 29'),\n",
       " (26882, 'February 29'),\n",
       " (27018, 'February 29'),\n",
       " (27323, 'February 29'),\n",
       " (27364, 'February 29'),\n",
       " (29112, 'February 29'),\n",
       " (30426, 'February 29'),\n",
       " (37392, 'February 29'),\n",
       " (38983, 'February 29'),\n",
       " (40322, 'February 29'),\n",
       " (40388, 'February 29'),\n",
       " (41101, 'February 29'),\n",
       " (49410, 'February 29'),\n",
       " (49411, 'February 29'),\n",
       " (52326, 'February 29'),\n",
       " (56697, 'February 29'),\n",
       " (57240, 'February 29')]"
      ]
     },
     "execution_count": 376,
     "metadata": {},
     "output_type": "execute_result"
    }
   ],
   "source": [
    "valores_no_convertidos"
   ]
  },
  {
   "cell_type": "code",
   "execution_count": 465,
   "metadata": {},
   "outputs": [
    {
     "data": {
      "text/html": [
       "<div>\n",
       "<style scoped>\n",
       "    .dataframe tbody tr th:only-of-type {\n",
       "        vertical-align: middle;\n",
       "    }\n",
       "\n",
       "    .dataframe tbody tr th {\n",
       "        vertical-align: top;\n",
       "    }\n",
       "\n",
       "    .dataframe thead th {\n",
       "        text-align: right;\n",
       "    }\n",
       "</style>\n",
       "<table border=\"1\" class=\"dataframe\">\n",
       "  <thead>\n",
       "    <tr style=\"text-align: right;\">\n",
       "      <th></th>\n",
       "      <th>posted</th>\n",
       "      <th>last_edited</th>\n",
       "      <th>item_id</th>\n",
       "      <th>recommend</th>\n",
       "      <th>review</th>\n",
       "      <th>user_id</th>\n",
       "    </tr>\n",
       "  </thead>\n",
       "  <tbody>\n",
       "    <tr>\n",
       "      <th>0</th>\n",
       "      <td>2011-11-05 00:00:00</td>\n",
       "      <td></td>\n",
       "      <td>1250</td>\n",
       "      <td>True</td>\n",
       "      <td>Simple yet with great replayability. In my opi...</td>\n",
       "      <td>76561197970982479</td>\n",
       "    </tr>\n",
       "    <tr>\n",
       "      <th>1</th>\n",
       "      <td>2011-07-15 00:00:00</td>\n",
       "      <td></td>\n",
       "      <td>22200</td>\n",
       "      <td>True</td>\n",
       "      <td>It's unique and worth a playthrough.</td>\n",
       "      <td>76561197970982479</td>\n",
       "    </tr>\n",
       "    <tr>\n",
       "      <th>2</th>\n",
       "      <td>2011-04-21 00:00:00</td>\n",
       "      <td></td>\n",
       "      <td>43110</td>\n",
       "      <td>True</td>\n",
       "      <td>Great atmosphere. The gunplay can be a bit chu...</td>\n",
       "      <td>76561197970982479</td>\n",
       "    </tr>\n",
       "    <tr>\n",
       "      <th>3</th>\n",
       "      <td>2014-06-24 00:00:00</td>\n",
       "      <td></td>\n",
       "      <td>251610</td>\n",
       "      <td>True</td>\n",
       "      <td>I know what you think when you see this title ...</td>\n",
       "      <td>js41637</td>\n",
       "    </tr>\n",
       "    <tr>\n",
       "      <th>4</th>\n",
       "      <td>2013-09-08 00:00:00</td>\n",
       "      <td></td>\n",
       "      <td>227300</td>\n",
       "      <td>True</td>\n",
       "      <td>For a simple (it's actually not all that simpl...</td>\n",
       "      <td>js41637</td>\n",
       "    </tr>\n",
       "  </tbody>\n",
       "</table>\n",
       "</div>"
      ],
      "text/plain": [
       "                posted last_edited item_id  recommend  \\\n",
       "0  2011-11-05 00:00:00                1250       True   \n",
       "1  2011-07-15 00:00:00               22200       True   \n",
       "2  2011-04-21 00:00:00               43110       True   \n",
       "3  2014-06-24 00:00:00              251610       True   \n",
       "4  2013-09-08 00:00:00              227300       True   \n",
       "\n",
       "                                              review            user_id  \n",
       "0  Simple yet with great replayability. In my opi...  76561197970982479  \n",
       "1               It's unique and worth a playthrough.  76561197970982479  \n",
       "2  Great atmosphere. The gunplay can be a bit chu...  76561197970982479  \n",
       "3  I know what you think when you see this title ...            js41637  \n",
       "4  For a simple (it's actually not all that simpl...            js41637  "
      ]
     },
     "execution_count": 465,
     "metadata": {},
     "output_type": "execute_result"
    }
   ],
   "source": [
    "df_reviews_2.head()"
   ]
  },
  {
   "cell_type": "code",
   "execution_count": null,
   "metadata": {},
   "outputs": [],
   "source": [
    "valores_no_convertidos_v2 = busqueda(df_sin_nulos['posted'])"
   ]
  },
  {
   "cell_type": "code",
   "execution_count": 462,
   "metadata": {},
   "outputs": [
    {
     "data": {
      "text/plain": [
       "[]"
      ]
     },
     "execution_count": 462,
     "metadata": {},
     "output_type": "execute_result"
    }
   ],
   "source": [
    "#todos los valores estan convertidos de la columna 'posted'\n",
    "valores_no_convertidos_v2"
   ]
  },
  {
   "cell_type": "markdown",
   "metadata": {},
   "source": [
    "*crearemos una funcion para tomar los valores de la columna 'last_edited' o de 'posted' en caso del tipo de dato*"
   ]
  },
  {
   "cell_type": "markdown",
   "metadata": {},
   "source": [
    "hay un inconveniente, en la columna 'posted' hay muchos valores que tienen mes, dia y año, pero, hay otros que no tienen el año, solamente mes dia y nos sirve el cambio si es que en la columna 'last_edited' hay valores con el formato que queres (mes, dia y año), pero hay otras ocaciones en donde pasa algo particular, en la columna 'posted' hay mes, dia y año, pero en 'last_edited' hay mes y dia, y si tomamos el criterio de agarrar lo que hay en 'last_edited' por encima de todo vamos a tener errores."
   ]
  },
  {
   "cell_type": "markdown",
   "metadata": {},
   "source": [
    "Entonces la solución que busque si 'last_edited' hay algo, si no hay nada ponemos lo de 'posted' este como este, pero si en 'last_edited' hay algo, que primero me busque si 'last_edited' tiene año, si 'last_edited' tiene año ponemos lo que hay en 'last_edited' sino, nos fijamos si en 'posted' hay año, si en 'posted' hay año, ponemos el 'año' de posted y el mes y dia de 'last_edited'. En caso de que en 'last_edited' haya valores, pero no año y en 'posted' tampoco haya año, ponemos lo que haya en 'last_edited'"
   ]
  },
  {
   "cell_type": "code",
   "execution_count": 468,
   "metadata": {},
   "outputs": [
    {
     "data": {
      "text/plain": [
       "datetime.datetime(2016, 2, 29, 0, 0)"
      ]
     },
     "execution_count": 468,
     "metadata": {},
     "output_type": "execute_result"
    }
   ],
   "source": [
    "#Vemos que es lo que hay en dentro de posted\n",
    "df_reviews_2['posted'].iloc[843]"
   ]
  },
  {
   "cell_type": "code",
   "execution_count": 473,
   "metadata": {},
   "outputs": [
    {
     "data": {
      "text/plain": [
       "1900"
      ]
     },
     "execution_count": 473,
     "metadata": {},
     "output_type": "execute_result"
    }
   ],
   "source": [
    "#verificamos como es que obtenemos solo el año\n",
    "df_reviews_2['posted'][842].year"
   ]
  },
  {
   "cell_type": "code",
   "execution_count": 490,
   "metadata": {},
   "outputs": [],
   "source": [
    "#hacemos copia por seguridad\n",
    "df_sin_nulos = df_reviews_2.copy()"
   ]
  },
  {
   "cell_type": "code",
   "execution_count": 496,
   "metadata": {},
   "outputs": [
    {
     "data": {
      "text/html": [
       "<div>\n",
       "<style scoped>\n",
       "    .dataframe tbody tr th:only-of-type {\n",
       "        vertical-align: middle;\n",
       "    }\n",
       "\n",
       "    .dataframe tbody tr th {\n",
       "        vertical-align: top;\n",
       "    }\n",
       "\n",
       "    .dataframe thead th {\n",
       "        text-align: right;\n",
       "    }\n",
       "</style>\n",
       "<table border=\"1\" class=\"dataframe\">\n",
       "  <thead>\n",
       "    <tr style=\"text-align: right;\">\n",
       "      <th></th>\n",
       "      <th>posted</th>\n",
       "      <th>last_edited</th>\n",
       "      <th>item_id</th>\n",
       "      <th>recommend</th>\n",
       "      <th>review</th>\n",
       "      <th>user_id</th>\n",
       "    </tr>\n",
       "  </thead>\n",
       "  <tbody>\n",
       "    <tr>\n",
       "      <th>0</th>\n",
       "      <td>2011-11-05 00:00:00</td>\n",
       "      <td>&lt;NA&gt;</td>\n",
       "      <td>1250</td>\n",
       "      <td>True</td>\n",
       "      <td>Simple yet with great replayability. In my opi...</td>\n",
       "      <td>76561197970982479</td>\n",
       "    </tr>\n",
       "    <tr>\n",
       "      <th>1</th>\n",
       "      <td>2011-07-15 00:00:00</td>\n",
       "      <td>&lt;NA&gt;</td>\n",
       "      <td>22200</td>\n",
       "      <td>True</td>\n",
       "      <td>It's unique and worth a playthrough.</td>\n",
       "      <td>76561197970982479</td>\n",
       "    </tr>\n",
       "    <tr>\n",
       "      <th>2</th>\n",
       "      <td>2011-04-21 00:00:00</td>\n",
       "      <td>&lt;NA&gt;</td>\n",
       "      <td>43110</td>\n",
       "      <td>True</td>\n",
       "      <td>Great atmosphere. The gunplay can be a bit chu...</td>\n",
       "      <td>76561197970982479</td>\n",
       "    </tr>\n",
       "    <tr>\n",
       "      <th>3</th>\n",
       "      <td>2014-06-24 00:00:00</td>\n",
       "      <td>&lt;NA&gt;</td>\n",
       "      <td>251610</td>\n",
       "      <td>True</td>\n",
       "      <td>I know what you think when you see this title ...</td>\n",
       "      <td>js41637</td>\n",
       "    </tr>\n",
       "    <tr>\n",
       "      <th>4</th>\n",
       "      <td>2013-09-08 00:00:00</td>\n",
       "      <td>&lt;NA&gt;</td>\n",
       "      <td>227300</td>\n",
       "      <td>True</td>\n",
       "      <td>For a simple (it's actually not all that simpl...</td>\n",
       "      <td>js41637</td>\n",
       "    </tr>\n",
       "  </tbody>\n",
       "</table>\n",
       "</div>"
      ],
      "text/plain": [
       "                posted last_edited item_id  recommend  \\\n",
       "0  2011-11-05 00:00:00        <NA>    1250       True   \n",
       "1  2011-07-15 00:00:00        <NA>   22200       True   \n",
       "2  2011-04-21 00:00:00        <NA>   43110       True   \n",
       "3  2014-06-24 00:00:00        <NA>  251610       True   \n",
       "4  2013-09-08 00:00:00        <NA>  227300       True   \n",
       "\n",
       "                                              review            user_id  \n",
       "0  Simple yet with great replayability. In my opi...  76561197970982479  \n",
       "1               It's unique and worth a playthrough.  76561197970982479  \n",
       "2  Great atmosphere. The gunplay can be a bit chu...  76561197970982479  \n",
       "3  I know what you think when you see this title ...            js41637  \n",
       "4  For a simple (it's actually not all that simpl...            js41637  "
      ]
     },
     "execution_count": 496,
     "metadata": {},
     "output_type": "execute_result"
    }
   ],
   "source": [
    "df_sin_nulos.head()"
   ]
  },
  {
   "cell_type": "code",
   "execution_count": 491,
   "metadata": {},
   "outputs": [],
   "source": [
    "#vamos a ver la moda de los valores distintos a '', para poder plicar ese año a las dechas que son del año 1900 ya que ese año se relleno automaticamente por la funcion datatime\n",
    "df_sin_nulos['last_edited'] = df_reviews_2['last_edited'].replace('', pd.NA)"
   ]
  },
  {
   "cell_type": "code",
   "execution_count": 495,
   "metadata": {},
   "outputs": [
    {
     "data": {
      "text/html": [
       "<div>\n",
       "<style scoped>\n",
       "    .dataframe tbody tr th:only-of-type {\n",
       "        vertical-align: middle;\n",
       "    }\n",
       "\n",
       "    .dataframe tbody tr th {\n",
       "        vertical-align: top;\n",
       "    }\n",
       "\n",
       "    .dataframe thead th {\n",
       "        text-align: right;\n",
       "    }\n",
       "</style>\n",
       "<table border=\"1\" class=\"dataframe\">\n",
       "  <thead>\n",
       "    <tr style=\"text-align: right;\">\n",
       "      <th></th>\n",
       "      <th>posted</th>\n",
       "      <th>last_edited</th>\n",
       "      <th>item_id</th>\n",
       "      <th>recommend</th>\n",
       "      <th>review</th>\n",
       "      <th>user_id</th>\n",
       "    </tr>\n",
       "  </thead>\n",
       "  <tbody>\n",
       "    <tr>\n",
       "      <th>count</th>\n",
       "      <td>59305</td>\n",
       "      <td>6140</td>\n",
       "      <td>59305</td>\n",
       "      <td>59305</td>\n",
       "      <td>59305</td>\n",
       "      <td>59305</td>\n",
       "    </tr>\n",
       "    <tr>\n",
       "      <th>unique</th>\n",
       "      <td>1906</td>\n",
       "      <td>1014</td>\n",
       "      <td>3682</td>\n",
       "      <td>2</td>\n",
       "      <td>55313</td>\n",
       "      <td>25458</td>\n",
       "    </tr>\n",
       "    <tr>\n",
       "      <th>top</th>\n",
       "      <td>2014-06-21 00:00:00</td>\n",
       "      <td>2013-11-25 00:00:00</td>\n",
       "      <td>730</td>\n",
       "      <td>True</td>\n",
       "      <td>good game</td>\n",
       "      <td>76561198094665607</td>\n",
       "    </tr>\n",
       "    <tr>\n",
       "      <th>freq</th>\n",
       "      <td>225</td>\n",
       "      <td>99</td>\n",
       "      <td>3759</td>\n",
       "      <td>52473</td>\n",
       "      <td>100</td>\n",
       "      <td>20</td>\n",
       "    </tr>\n",
       "  </tbody>\n",
       "</table>\n",
       "</div>"
      ],
      "text/plain": [
       "                     posted          last_edited item_id recommend     review  \\\n",
       "count                 59305                 6140   59305     59305      59305   \n",
       "unique                 1906                 1014    3682         2      55313   \n",
       "top     2014-06-21 00:00:00  2013-11-25 00:00:00     730      True  good game   \n",
       "freq                    225                   99    3759     52473        100   \n",
       "\n",
       "                  user_id  \n",
       "count               59305  \n",
       "unique              25458  \n",
       "top     76561198094665607  \n",
       "freq                   20  "
      ]
     },
     "execution_count": 495,
     "metadata": {},
     "output_type": "execute_result"
    }
   ],
   "source": [
    "#La moda de la columna 'last_edited' es del año 2013, podria hacer una opcion para reemplazar por el año 1900, pero antes, tendremos en cuenta si en la columna 'posted' tiene año y utilizaremos ese año, en caso de que no utlizaremos el año de la moda\n",
    "df_sin_nulos.describe()"
   ]
  },
  {
   "cell_type": "code",
   "execution_count": 519,
   "metadata": {},
   "outputs": [],
   "source": [
    "#pasamos las columnas a el formato fecha y hora\n",
    "df_sin_nulos['posted'] = pd.to_datetime(df_sin_nulos['posted'], errors='coerce')\n",
    "df_sin_nulos['last_edited'] = pd.to_datetime(df_sin_nulos['last_edited'], errors='coerce')"
   ]
  },
  {
   "cell_type": "code",
   "execution_count": 531,
   "metadata": {},
   "outputs": [],
   "source": [
    "#Los valores con NaT me estan dando prblemas para aplicar mi funcion, cambiaremos los NaT a Null\n",
    "df_sin_nulos['last_edited'].fillna(np.nan, inplace=True)\n",
    "df_sin_nulos['posted'].fillna(np.nan, inplace=True)"
   ]
  },
  {
   "cell_type": "code",
   "execution_count": 591,
   "metadata": {},
   "outputs": [],
   "source": [
    "#Definimos la funcion que nos va a retornar la fecha correcta segun el analisis que hicimos\n",
    "def fecha_final(fila):\n",
    "    # Si 'last_edited' no es nulo y su año no es 1900, devuelve 'last_edited'\n",
    "    if not pd.isnull(fila['last_edited']) and fila['last_edited'].year != 1900:\n",
    "        return fila['last_edited']\n",
    "\n",
    "    # Si 'last_edited' no es nulo, pero su año es 1900\n",
    "    elif not pd.isnull(fila['last_edited']) and fila['last_edited'].year == 1900:\n",
    "        # Si 'posted' no es nulo y su año no es 1900, combina el año de 'last_edited' con el mes y día de 'posted'\n",
    "        if not pd.isnull(fila['posted']) and fila['posted'].year != 1900:\n",
    "            fecha_modificada = pd.Timestamp(year=fila['posted'].year, month=fila['last_edited'].month, day=fila['last_edited'].day)\n",
    "        # Si 'posted' también tiene año 1900, usa 2013 como el año y combina el mes y día de 'last_edited'\n",
    "        elif not pd.isnull(fila['posted']) and fila['posted'].year == 1900:\n",
    "            fecha_modificada = pd.Timestamp(year=2013, month=fila['last_edited'].month, day=fila['last_edited'].day)\n",
    "            return fecha_modificada\n",
    "        # Si no hay información en 'posted', simplemente devuelve 'last_edited'\n",
    "        else:\n",
    "            return fila['last_edited']\n",
    "    \n",
    "    # Si 'last_edited' es nulo, pero 'posted' no lo es\n",
    "    elif not pd.isnull(fila['posted']):\n",
    "        # Si 'posted' tiene año 1900, usa 2014 como el año y combina el mes y día de 'posted'\n",
    "        if fila['posted'].year == 1900:\n",
    "            fecha_modificada = pd.Timestamp(year=2014, month=fila['posted'].month, day=fila['posted'].day)\n",
    "            return fecha_modificada\n",
    "        # Si 'posted' no tiene año 1900, simplemente devuelve 'posted'\n",
    "        else:\n",
    "            return fila['posted']\n",
    "    \n",
    "    # Si tanto 'last_edited' como 'posted' son nulos, devuelve NaN\n",
    "    else:\n",
    "        return pd.NA"
   ]
  },
  {
   "cell_type": "code",
   "execution_count": 566,
   "metadata": {},
   "outputs": [],
   "source": [
    "#creamos una copia para aplicarle las funciones y que no pierdamos el procesos anterior\n",
    "df_sin_nulos_2 = df_sin_nulos.copy()"
   ]
  },
  {
   "cell_type": "code",
   "execution_count": 611,
   "metadata": {},
   "outputs": [],
   "source": [
    "#creamo una nueva columna donde vamos a poner los valores de la fechas con corrección\n",
    "df_sin_nulos_2['fecha'] = df_sin_nulos_2.apply(fecha_final,axis=1)"
   ]
  },
  {
   "cell_type": "code",
   "execution_count": 628,
   "metadata": {},
   "outputs": [
    {
     "data": {
      "text/html": [
       "<div>\n",
       "<style scoped>\n",
       "    .dataframe tbody tr th:only-of-type {\n",
       "        vertical-align: middle;\n",
       "    }\n",
       "\n",
       "    .dataframe tbody tr th {\n",
       "        vertical-align: top;\n",
       "    }\n",
       "\n",
       "    .dataframe thead th {\n",
       "        text-align: right;\n",
       "    }\n",
       "</style>\n",
       "<table border=\"1\" class=\"dataframe\">\n",
       "  <thead>\n",
       "    <tr style=\"text-align: right;\">\n",
       "      <th></th>\n",
       "      <th>posted</th>\n",
       "      <th>last_edited</th>\n",
       "      <th>item_id</th>\n",
       "      <th>recommend</th>\n",
       "      <th>review</th>\n",
       "      <th>user_id</th>\n",
       "      <th>date</th>\n",
       "      <th>year</th>\n",
       "    </tr>\n",
       "  </thead>\n",
       "  <tbody>\n",
       "    <tr>\n",
       "      <th>0</th>\n",
       "      <td>2011-11-05</td>\n",
       "      <td>NaT</td>\n",
       "      <td>1250</td>\n",
       "      <td>True</td>\n",
       "      <td>Simple yet with great replayability. In my opi...</td>\n",
       "      <td>76561197970982479</td>\n",
       "      <td>2011-11-05</td>\n",
       "      <td>2011</td>\n",
       "    </tr>\n",
       "    <tr>\n",
       "      <th>1</th>\n",
       "      <td>2011-07-15</td>\n",
       "      <td>NaT</td>\n",
       "      <td>22200</td>\n",
       "      <td>True</td>\n",
       "      <td>It's unique and worth a playthrough.</td>\n",
       "      <td>76561197970982479</td>\n",
       "      <td>2011-07-15</td>\n",
       "      <td>2011</td>\n",
       "    </tr>\n",
       "    <tr>\n",
       "      <th>2</th>\n",
       "      <td>2011-04-21</td>\n",
       "      <td>NaT</td>\n",
       "      <td>43110</td>\n",
       "      <td>True</td>\n",
       "      <td>Great atmosphere. The gunplay can be a bit chu...</td>\n",
       "      <td>76561197970982479</td>\n",
       "      <td>2011-04-21</td>\n",
       "      <td>2011</td>\n",
       "    </tr>\n",
       "    <tr>\n",
       "      <th>3</th>\n",
       "      <td>2014-06-24</td>\n",
       "      <td>NaT</td>\n",
       "      <td>251610</td>\n",
       "      <td>True</td>\n",
       "      <td>I know what you think when you see this title ...</td>\n",
       "      <td>js41637</td>\n",
       "      <td>2014-06-24</td>\n",
       "      <td>2014</td>\n",
       "    </tr>\n",
       "    <tr>\n",
       "      <th>4</th>\n",
       "      <td>2013-09-08</td>\n",
       "      <td>NaT</td>\n",
       "      <td>227300</td>\n",
       "      <td>True</td>\n",
       "      <td>For a simple (it's actually not all that simpl...</td>\n",
       "      <td>js41637</td>\n",
       "      <td>2013-09-08</td>\n",
       "      <td>2013</td>\n",
       "    </tr>\n",
       "  </tbody>\n",
       "</table>\n",
       "</div>"
      ],
      "text/plain": [
       "      posted last_edited item_id  recommend  \\\n",
       "0 2011-11-05         NaT    1250       True   \n",
       "1 2011-07-15         NaT   22200       True   \n",
       "2 2011-04-21         NaT   43110       True   \n",
       "3 2014-06-24         NaT  251610       True   \n",
       "4 2013-09-08         NaT  227300       True   \n",
       "\n",
       "                                              review            user_id  \\\n",
       "0  Simple yet with great replayability. In my opi...  76561197970982479   \n",
       "1               It's unique and worth a playthrough.  76561197970982479   \n",
       "2  Great atmosphere. The gunplay can be a bit chu...  76561197970982479   \n",
       "3  I know what you think when you see this title ...            js41637   \n",
       "4  For a simple (it's actually not all that simpl...            js41637   \n",
       "\n",
       "        date  year  \n",
       "0 2011-11-05  2011  \n",
       "1 2011-07-15  2011  \n",
       "2 2011-04-21  2011  \n",
       "3 2014-06-24  2014  \n",
       "4 2013-09-08  2013  "
      ]
     },
     "execution_count": 628,
     "metadata": {},
     "output_type": "execute_result"
    }
   ],
   "source": [
    "df_sin_nulos_2.head()"
   ]
  },
  {
   "cell_type": "code",
   "execution_count": 613,
   "metadata": {},
   "outputs": [],
   "source": [
    "#definimos una funcion de relleno\n",
    "def rellenamos(fila):\n",
    "    if pd.isnull(fila['fecha']):\n",
    "        fecha_modificada = pd.Timestamp(year=fila['posted'].year, month=fila['last_edited'].month, day=fila['last_edited'].day)\n",
    "        return fecha_modificada\n",
    "    else:\n",
    "        return fila['fecha']"
   ]
  },
  {
   "cell_type": "code",
   "execution_count": 614,
   "metadata": {},
   "outputs": [],
   "source": [
    "df_sin_nulos_2['fecha']=df_sin_nulos_2.apply(rellenamos, axis=1)"
   ]
  },
  {
   "cell_type": "code",
   "execution_count": 310,
   "metadata": {},
   "outputs": [
    {
     "data": {
      "text/html": [
       "<div>\n",
       "<style scoped>\n",
       "    .dataframe tbody tr th:only-of-type {\n",
       "        vertical-align: middle;\n",
       "    }\n",
       "\n",
       "    .dataframe tbody tr th {\n",
       "        vertical-align: top;\n",
       "    }\n",
       "\n",
       "    .dataframe thead th {\n",
       "        text-align: right;\n",
       "    }\n",
       "</style>\n",
       "<table border=\"1\" class=\"dataframe\">\n",
       "  <thead>\n",
       "    <tr style=\"text-align: right;\">\n",
       "      <th></th>\n",
       "      <th>posted</th>\n",
       "      <th>last_edited</th>\n",
       "      <th>item_id</th>\n",
       "      <th>recommend</th>\n",
       "      <th>review</th>\n",
       "      <th>user_id</th>\n",
       "    </tr>\n",
       "  </thead>\n",
       "  <tbody>\n",
       "    <tr>\n",
       "      <th>0</th>\n",
       "      <td>November 5, 2011</td>\n",
       "      <td></td>\n",
       "      <td>1250</td>\n",
       "      <td>True</td>\n",
       "      <td>Simple yet with great replayability. In my opi...</td>\n",
       "      <td>76561197970982479</td>\n",
       "    </tr>\n",
       "    <tr>\n",
       "      <th>1</th>\n",
       "      <td>July 15, 2011</td>\n",
       "      <td></td>\n",
       "      <td>22200</td>\n",
       "      <td>True</td>\n",
       "      <td>It's unique and worth a playthrough.</td>\n",
       "      <td>76561197970982479</td>\n",
       "    </tr>\n",
       "    <tr>\n",
       "      <th>2</th>\n",
       "      <td>April 21, 2011</td>\n",
       "      <td></td>\n",
       "      <td>43110</td>\n",
       "      <td>True</td>\n",
       "      <td>Great atmosphere. The gunplay can be a bit chu...</td>\n",
       "      <td>76561197970982479</td>\n",
       "    </tr>\n",
       "    <tr>\n",
       "      <th>3</th>\n",
       "      <td>June 24, 2014</td>\n",
       "      <td></td>\n",
       "      <td>251610</td>\n",
       "      <td>True</td>\n",
       "      <td>I know what you think when you see this title ...</td>\n",
       "      <td>js41637</td>\n",
       "    </tr>\n",
       "    <tr>\n",
       "      <th>4</th>\n",
       "      <td>September 8, 2013</td>\n",
       "      <td></td>\n",
       "      <td>227300</td>\n",
       "      <td>True</td>\n",
       "      <td>For a simple (it's actually not all that simpl...</td>\n",
       "      <td>js41637</td>\n",
       "    </tr>\n",
       "  </tbody>\n",
       "</table>\n",
       "</div>"
      ],
      "text/plain": [
       "              posted last_edited item_id  recommend  \\\n",
       "0   November 5, 2011                1250       True   \n",
       "1      July 15, 2011               22200       True   \n",
       "2     April 21, 2011               43110       True   \n",
       "3      June 24, 2014              251610       True   \n",
       "4  September 8, 2013              227300       True   \n",
       "\n",
       "                                              review            user_id  \n",
       "0  Simple yet with great replayability. In my opi...  76561197970982479  \n",
       "1               It's unique and worth a playthrough.  76561197970982479  \n",
       "2  Great atmosphere. The gunplay can be a bit chu...  76561197970982479  \n",
       "3  I know what you think when you see this title ...            js41637  \n",
       "4  For a simple (it's actually not all that simpl...            js41637  "
      ]
     },
     "execution_count": 310,
     "metadata": {},
     "output_type": "execute_result"
    }
   ],
   "source": [
    "#Hay 10119 fechas que no tienen el formato año dia mes\n",
    "df_reviews_2.head()"
   ]
  },
  {
   "cell_type": "code",
   "execution_count": 583,
   "metadata": {},
   "outputs": [],
   "source": [
    "#buscamos los indices de esos valores nulos\n",
    "indice_valores_null = df_sin_nulos_2[df_sin_nulos_2['fecha'].isna()].index"
   ]
  },
  {
   "cell_type": "code",
   "execution_count": 598,
   "metadata": {},
   "outputs": [
    {
     "data": {
      "text/plain": [
       "Index([   87,    88,   193,   214,   359,   417,   445,   477,   710,   715,\n",
       "       ...\n",
       "       58533, 58601, 58661, 58679, 58735, 58767, 58979, 59074, 59144, 59196],\n",
       "      dtype='int64', length=860)"
      ]
     },
     "execution_count": 598,
     "metadata": {},
     "output_type": "execute_result"
    }
   ],
   "source": [
    "indice_valores_null"
   ]
  },
  {
   "cell_type": "code",
   "execution_count": 626,
   "metadata": {},
   "outputs": [],
   "source": [
    "#agregaremos una columna de año y corregimos el nombre de año\n",
    "df_sin_nulos_2.rename(columns={'fecha': 'date'}, inplace=True)\n",
    "df_sin_nulos_2['year'] = df_sin_nulos_2['date'].dt.year"
   ]
  },
  {
   "cell_type": "code",
   "execution_count": 627,
   "metadata": {},
   "outputs": [
    {
     "name": "stdout",
     "output_type": "stream",
     "text": [
      "<class 'pandas.core.frame.DataFrame'>\n",
      "RangeIndex: 59305 entries, 0 to 59304\n",
      "Data columns (total 8 columns):\n",
      " #   Column       Non-Null Count  Dtype         \n",
      "---  ------       --------------  -----         \n",
      " 0   posted       59305 non-null  datetime64[ns]\n",
      " 1   last_edited  6136 non-null   datetime64[ns]\n",
      " 2   item_id      59305 non-null  object        \n",
      " 3   recommend    59305 non-null  bool          \n",
      " 4   review       59305 non-null  object        \n",
      " 5   user_id      59305 non-null  object        \n",
      " 6   date         59305 non-null  datetime64[ns]\n",
      " 7   year         59305 non-null  int32         \n",
      "dtypes: bool(1), datetime64[ns](3), int32(1), object(3)\n",
      "memory usage: 3.0+ MB\n"
     ]
    }
   ],
   "source": [
    "df_sin_nulos_2.info()"
   ]
  },
  {
   "cell_type": "code",
   "execution_count": 629,
   "metadata": {},
   "outputs": [],
   "source": [
    "#guardamos el nuevo df eliminando las anteriores columnas de fechas\n",
    "df_reviews_optimo = df_sin_nulos_2[['date','year','item_id','user_id','recommend','review']]"
   ]
  },
  {
   "cell_type": "code",
   "execution_count": 633,
   "metadata": {},
   "outputs": [
    {
     "name": "stdout",
     "output_type": "stream",
     "text": [
      "<class 'pandas.core.frame.DataFrame'>\n",
      "RangeIndex: 59305 entries, 0 to 59304\n",
      "Data columns (total 6 columns):\n",
      " #   Column     Non-Null Count  Dtype         \n",
      "---  ------     --------------  -----         \n",
      " 0   date       59305 non-null  datetime64[ns]\n",
      " 1   year       59305 non-null  int32         \n",
      " 2   item_id    59305 non-null  object        \n",
      " 3   user_id    59305 non-null  object        \n",
      " 4   recommend  59305 non-null  bool          \n",
      " 5   review     59305 non-null  object        \n",
      "dtypes: bool(1), datetime64[ns](1), int32(1), object(3)\n",
      "memory usage: 2.1+ MB\n"
     ]
    }
   ],
   "source": [
    "df_reviews_optimo.info()"
   ]
  },
  {
   "cell_type": "markdown",
   "metadata": {},
   "source": [
    "*exporto el df reviews a csv*"
   ]
  },
  {
   "cell_type": "code",
   "execution_count": 634,
   "metadata": {},
   "outputs": [],
   "source": [
    "df_reviews_optimo.to_csv('reviews_v2.0_fechas_limpias.csv', index=False)"
   ]
  }
 ],
 "metadata": {
  "kernelspec": {
   "display_name": "Python 3",
   "language": "python",
   "name": "python3"
  },
  "language_info": {
   "codemirror_mode": {
    "name": "ipython",
    "version": 3
   },
   "file_extension": ".py",
   "mimetype": "text/x-python",
   "name": "python",
   "nbconvert_exporter": "python",
   "pygments_lexer": "ipython3",
   "version": "3.11.5"
  },
  "orig_nbformat": 4
 },
 "nbformat": 4,
 "nbformat_minor": 2
}
