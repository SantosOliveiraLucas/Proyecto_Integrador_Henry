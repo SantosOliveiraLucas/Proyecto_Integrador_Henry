{
 "cells": [
  {
   "cell_type": "markdown",
   "metadata": {},
   "source": [
    "**LIBRERIAS**"
   ]
  },
  {
   "cell_type": "code",
   "execution_count": 1,
   "metadata": {},
   "outputs": [],
   "source": [
    "import pandas as pd"
   ]
  },
  {
   "cell_type": "markdown",
   "metadata": {},
   "source": [
    "**ABRIMOS LOS ARCHIVOS NECESARIOS**"
   ]
  },
  {
   "cell_type": "code",
   "execution_count": 13,
   "metadata": {},
   "outputs": [],
   "source": [
    "df_games = pd.read_csv(f'archivos definitivos/games.csv')\n",
    "df_items = pd.read_csv(f'archivos definitivos/items.csv')\n",
    "df_reviews = pd.read_csv(f'archivos definitivos/reviews.csv')"
   ]
  },
  {
   "cell_type": "code",
   "execution_count": 14,
   "metadata": {},
   "outputs": [
    {
     "data": {
      "text/html": [
       "<div>\n",
       "<style scoped>\n",
       "    .dataframe tbody tr th:only-of-type {\n",
       "        vertical-align: middle;\n",
       "    }\n",
       "\n",
       "    .dataframe tbody tr th {\n",
       "        vertical-align: top;\n",
       "    }\n",
       "\n",
       "    .dataframe thead th {\n",
       "        text-align: right;\n",
       "    }\n",
       "</style>\n",
       "<table border=\"1\" class=\"dataframe\">\n",
       "  <thead>\n",
       "    <tr style=\"text-align: right;\">\n",
       "      <th></th>\n",
       "      <th>item_id</th>\n",
       "      <th>user_id</th>\n",
       "      <th>year</th>\n",
       "      <th>recommend</th>\n",
       "      <th>sentiment_analysis</th>\n",
       "    </tr>\n",
       "  </thead>\n",
       "  <tbody>\n",
       "    <tr>\n",
       "      <th>0</th>\n",
       "      <td>1250</td>\n",
       "      <td>76561197970982479</td>\n",
       "      <td>2011</td>\n",
       "      <td>True</td>\n",
       "      <td>2</td>\n",
       "    </tr>\n",
       "    <tr>\n",
       "      <th>1</th>\n",
       "      <td>22200</td>\n",
       "      <td>76561197970982479</td>\n",
       "      <td>2011</td>\n",
       "      <td>True</td>\n",
       "      <td>1</td>\n",
       "    </tr>\n",
       "    <tr>\n",
       "      <th>2</th>\n",
       "      <td>43110</td>\n",
       "      <td>76561197970982479</td>\n",
       "      <td>2011</td>\n",
       "      <td>True</td>\n",
       "      <td>2</td>\n",
       "    </tr>\n",
       "    <tr>\n",
       "      <th>3</th>\n",
       "      <td>251610</td>\n",
       "      <td>js41637</td>\n",
       "      <td>2014</td>\n",
       "      <td>True</td>\n",
       "      <td>2</td>\n",
       "    </tr>\n",
       "    <tr>\n",
       "      <th>4</th>\n",
       "      <td>227300</td>\n",
       "      <td>js41637</td>\n",
       "      <td>2013</td>\n",
       "      <td>True</td>\n",
       "      <td>2</td>\n",
       "    </tr>\n",
       "    <tr>\n",
       "      <th>...</th>\n",
       "      <td>...</td>\n",
       "      <td>...</td>\n",
       "      <td>...</td>\n",
       "      <td>...</td>\n",
       "      <td>...</td>\n",
       "    </tr>\n",
       "    <tr>\n",
       "      <th>59300</th>\n",
       "      <td>70</td>\n",
       "      <td>76561198312638244</td>\n",
       "      <td>2014</td>\n",
       "      <td>True</td>\n",
       "      <td>2</td>\n",
       "    </tr>\n",
       "    <tr>\n",
       "      <th>59301</th>\n",
       "      <td>362890</td>\n",
       "      <td>76561198312638244</td>\n",
       "      <td>2014</td>\n",
       "      <td>True</td>\n",
       "      <td>2</td>\n",
       "    </tr>\n",
       "    <tr>\n",
       "      <th>59302</th>\n",
       "      <td>273110</td>\n",
       "      <td>LydiaMorley</td>\n",
       "      <td>2014</td>\n",
       "      <td>True</td>\n",
       "      <td>2</td>\n",
       "    </tr>\n",
       "    <tr>\n",
       "      <th>59303</th>\n",
       "      <td>730</td>\n",
       "      <td>LydiaMorley</td>\n",
       "      <td>2014</td>\n",
       "      <td>True</td>\n",
       "      <td>2</td>\n",
       "    </tr>\n",
       "    <tr>\n",
       "      <th>59304</th>\n",
       "      <td>440</td>\n",
       "      <td>LydiaMorley</td>\n",
       "      <td>2014</td>\n",
       "      <td>True</td>\n",
       "      <td>2</td>\n",
       "    </tr>\n",
       "  </tbody>\n",
       "</table>\n",
       "<p>59305 rows × 5 columns</p>\n",
       "</div>"
      ],
      "text/plain": [
       "       item_id            user_id  year  recommend  sentiment_analysis\n",
       "0         1250  76561197970982479  2011       True                   2\n",
       "1        22200  76561197970982479  2011       True                   1\n",
       "2        43110  76561197970982479  2011       True                   2\n",
       "3       251610            js41637  2014       True                   2\n",
       "4       227300            js41637  2013       True                   2\n",
       "...        ...                ...   ...        ...                 ...\n",
       "59300       70  76561198312638244  2014       True                   2\n",
       "59301   362890  76561198312638244  2014       True                   2\n",
       "59302   273110        LydiaMorley  2014       True                   2\n",
       "59303      730        LydiaMorley  2014       True                   2\n",
       "59304      440        LydiaMorley  2014       True                   2\n",
       "\n",
       "[59305 rows x 5 columns]"
      ]
     },
     "execution_count": 14,
     "metadata": {},
     "output_type": "execute_result"
    }
   ],
   "source": [
    "df_reviews"
   ]
  },
  {
   "cell_type": "markdown",
   "metadata": {},
   "source": [
    "**PRIMERA FUNCION**"
   ]
  },
  {
   "cell_type": "code",
   "execution_count": 71,
   "metadata": {},
   "outputs": [],
   "source": [
    "def PlayTimeGenre( genero : str ):\n",
    "    # Hacemos un join de las tablas para tener las horas agrupadas a los items\n",
    "    df_join = df_games.merge(df_items, on='item_id', how='inner')\n",
    "\n",
    "    # Filtro por genero solicitado\n",
    "    df_join = df_join.loc[df_join['genres']== genero].drop(columns=['release_date'], axis=1)\n",
    "\n",
    "    # Realizo la suma por año \n",
    "    suma_por_años = df_join.groupby('year')['playtime_forever'].sum()\n",
    "\n",
    "    # Escojemos el año con la suma más alta\n",
    "    año_con_mas_horas = suma_por_años.idxmax()\n",
    "\n",
    "    # Retorno el año con mas horas por genero\n",
    "    return f\"El año de lanzamiento con más horas jugadas para el Género {genero} es {año_con_mas_horas}\""
   ]
  },
  {
   "cell_type": "code",
   "execution_count": 73,
   "metadata": {},
   "outputs": [],
   "source": [
    "#Al ponerle el csv de items con 3 columnas el tiempo de retorno es de 3.4s, anteriormente con el csv de 2 columnas era de 2.2s. Ahora demora un 55% más que antes."
   ]
  },
  {
   "cell_type": "code",
   "execution_count": 72,
   "metadata": {},
   "outputs": [
    {
     "data": {
      "text/plain": [
       "'El año de lanzamiento con más horas jugadas para el Género Action es 2012'"
      ]
     },
     "execution_count": 72,
     "metadata": {},
     "output_type": "execute_result"
    }
   ],
   "source": [
    "PlayTimeGenre('Action')"
   ]
  },
  {
   "cell_type": "markdown",
   "metadata": {},
   "source": [
    "**SEGUNDA FUNCION**"
   ]
  },
  {
   "cell_type": "code",
   "execution_count": 212,
   "metadata": {},
   "outputs": [],
   "source": [
    "def UserForGenre( genero : str ):\n",
    "    # Hacemos un join de las tablas para tener las horas, el usuario agrupadas a los items\n",
    "    df_join = df_games.merge(df_items, on='item_id', how='inner')\n",
    "\n",
    "    # Filtro por el genero solicitado\n",
    "    df_join = df_join.loc[df_join['genres']== genero].drop(columns=['release_date'], axis=1)\n",
    "\n",
    "    # Sumo por usuario (ya esta filtrado por el genero). Me crea un df\n",
    "    suma_por_años = df_join.groupby(['user_id'])['playtime_forever'].sum().reset_index()\n",
    "    \n",
    "    # Guardo el nombre del usuario con más horas jugadas en una variable\n",
    "    user_con_mas_horas = suma_por_años.max()[0]\n",
    "\n",
    "    # Creo un nuevo df en donde filtro por el usuario con más horas, para poder sacar sus horas por año\n",
    "    df_join_user = df_join[df_join['user_id'] == user_con_mas_horas].drop(columns=['item_id','user_id','genres'], axis=1)\n",
    "\n",
    "    # Ahora voy a sumar por año (ya esta filtrado por el usuario). Me crea un df\n",
    "    suma_por_años = df_join_user.groupby('year')['playtime_forever'].sum().reset_index()\n",
    "\n",
    "    # Conveirto el DataFrame a un diccionario para poder iterarlo\n",
    "    suma_por_años_dic = suma_por_años.to_dict(orient='records')\n",
    "\n",
    "    # Crear una lista para poder darle una forma más clara a la respuesta\n",
    "    año_y_horas = [(f\"| En el año {i['year']} jugó {i['playtime_forever']} horas |\") for i in suma_por_años_dic]\n",
    "\n",
    "    # Retorno la respuesta\n",
    "    return (f\"\"\"El usuario con más horas jugadas para el género {genero} es {user_con_mas_horas}. Su historial es:\n",
    "            {año_y_horas}\"\"\")\n"
   ]
  },
  {
   "cell_type": "code",
   "execution_count": 213,
   "metadata": {},
   "outputs": [
    {
     "data": {
      "text/plain": [
       "\"El usuario con más horas jugadas para el género Action es zzzmidmiss. Su historial es:\\n            ['| En el año 2009 jugó 482 horas |', '| En el año 2010 jugó 273 horas |', '| En el año 2011 jugó 2302 horas |', '| En el año 2012 jugó 5714 horas |', '| En el año 2013 jugó 98 horas |', '| En el año 2014 jugó 16 horas |']\""
      ]
     },
     "execution_count": 213,
     "metadata": {},
     "output_type": "execute_result"
    }
   ],
   "source": [
    "UserForGenre('Action')"
   ]
  },
  {
   "cell_type": "markdown",
   "metadata": {},
   "source": [
    "**TERCERA FUNCION**"
   ]
  },
  {
   "cell_type": "code",
   "execution_count": 261,
   "metadata": {},
   "outputs": [],
   "source": [
    "def UsersRecommend(año : int):\n",
    "    #filtramos el df por el año, es decir unicamente queremos datos que correspondan a ese año\n",
    "    df_reviews_filtrado = df_reviews[df_reviews['year'] == año]\n",
    "\n",
    "    #Filtramos el df que ya esta filtrado, por el analisis sentiment sea 1 o 2\n",
    "    df_reviews_filtrado = df_reviews_filtrado[df_reviews_filtrado['sentiment_analysis'].isin([1, 2])]\n",
    "\n",
    "    #Agrupamos por item_id, el conteo de las recomendaciones True\n",
    "    conteo_recomendacion_por_juego = df_reviews_filtrado.groupby('item_id')['recommend'].sum(True).reset_index()\n",
    "\n",
    "    #Hacemos un df en donde ponemos los 3 con más conteo\n",
    "    top_3_recommended = conteo_recomendacion_por_juego.nlargest(3, 'recommend')\n",
    "\n",
    "    #Retornamos el Id de los juegos con más recomendaciones por el año\n",
    "    return f'Id de los 3 juegos más recomendados por el año {año}: | Puesto 1 = {top_3_recommended[\"item_id\"].iloc[0]} | Puesto 2 = {top_3_recommended[\"item_id\"].iloc[1]} | Puesto 3 = {top_3_recommended[\"item_id\"].iloc[2]} |'"
   ]
  },
  {
   "cell_type": "code",
   "execution_count": 262,
   "metadata": {},
   "outputs": [
    {
     "data": {
      "text/plain": [
       "'Id de los 3 juegos más recomendados por el año 2014: | Puesto 1 = 440 | Puesto 2 = 730 | Puesto 3 = 4000 |'"
      ]
     },
     "execution_count": 262,
     "metadata": {},
     "output_type": "execute_result"
    }
   ],
   "source": [
    "UsersRecommend(2014)"
   ]
  },
  {
   "cell_type": "markdown",
   "metadata": {},
   "source": [
    "**CUARTA FUNCION**"
   ]
  },
  {
   "cell_type": "code",
   "execution_count": 282,
   "metadata": {},
   "outputs": [],
   "source": [
    "def UsersNotRecommend( año : int ):\n",
    "    #filtramos el df por el año, es decir unicamente queremos datos que correspondan a ese año\n",
    "    df_reviews_filtrado = df_reviews[df_reviews['year'] == año]\n",
    "\n",
    "    #Filtramos el df que ya esta filtrado, por el analisis sentiment sea 0\n",
    "    df_reviews_filtrado = df_reviews_filtrado[df_reviews_filtrado['sentiment_analysis'].isin([0])]\n",
    "\n",
    "    #Agrupamos por item_id, el conteo de las recomendaciones False, para esto usamos una funcion lambda en donde usamos el '~', que se lo usa para negar el True, ya que no es correcto usar .sum(False), entonces utilizamos la negacion de True(No True) que es equivalente a False\n",
    "    conteo_recomendacion_por_juego = df_reviews_filtrado.groupby('item_id')['recommend'].apply(lambda x: (~x).sum()).reset_index()\n",
    "\n",
    "    #Hacemos un df en donde ponemos los 3 con más conteo de False\n",
    "    top_3_recommended = conteo_recomendacion_por_juego.nlargest(3, 'recommend')\n",
    "\n",
    "    #Retornamos el Id de los juegos con menos recomendaciones por el año\n",
    "    return f'Id de los 3 juegos menos recomendados por el año {año}: | Puesto 1 = {top_3_recommended[\"item_id\"].iloc[0]} | Puesto 2 = {top_3_recommended[\"item_id\"].iloc[1]} | Puesto 3 = {top_3_recommended[\"item_id\"].iloc[2]} |'"
   ]
  },
  {
   "cell_type": "code",
   "execution_count": 283,
   "metadata": {},
   "outputs": [
    {
     "data": {
      "text/plain": [
       "'Id de los 3 juegos menos recomendados por el año 2014: | Puesto 1 = 221100 | Puesto 2 = 211420 | Puesto 3 = 252490 |'"
      ]
     },
     "execution_count": 283,
     "metadata": {},
     "output_type": "execute_result"
    }
   ],
   "source": [
    "UsersNotRecommend(2014)"
   ]
  },
  {
   "cell_type": "markdown",
   "metadata": {},
   "source": [
    "**QUINTA FUNCION**"
   ]
  },
  {
   "cell_type": "code",
   "execution_count": 330,
   "metadata": {},
   "outputs": [],
   "source": [
    "def sentiment_analysis( año : int ):\n",
    "    #La funcion debe estar según el año de lanzamiento, primero filtramos el df por el año\n",
    "    df_games_filtrado_año = df_games[df_games['year_release'] == año]\n",
    "\n",
    "    #Hacemos un inner join con dos df, el de 'games' que ya esta filtrado por la fecha que necesitamos y el df de 'reviews' de cual necesitamos la informacion del sentiment_analysis\n",
    "    df_join_analysis = df_games_filtrado_año.merge(df_reviews, on='item_id', how='inner')\n",
    "\n",
    "    #Quitamos columas innesesarias que no utilizaremos\n",
    "    df_join_analysis = df_join_analysis[['item_id', 'year_release', 'user_id','sentiment_analysis']]\n",
    "\n",
    "    #Hacemos un conteo de sentiment_analysis\n",
    "    conteo_sentiment_analysis = df_join_analysis['sentiment_analysis'].value_counts()\n",
    "\n",
    "    #Retornamos la cantidad de registros de reseñas de usuarios, ya sea negativo, neutro o positivo por el año de lanzamiento del juego\n",
    "    return f'La cantidad de registros de reseñas de usuarios por el año de lanzamiento {año} son: Negativos = {conteo_sentiment_analysis[0]}, Neutros = {conteo_sentiment_analysis[1]}, Positivos = {conteo_sentiment_analysis[2]}'"
   ]
  },
  {
   "cell_type": "code",
   "execution_count": 331,
   "metadata": {},
   "outputs": [
    {
     "data": {
      "text/plain": [
       "'La cantidad de registros de reseñas de usuarios por el año de lanzamiento 2014 son: Negativos = 215, Neutros = 7078, Positivos = 10572'"
      ]
     },
     "execution_count": 331,
     "metadata": {},
     "output_type": "execute_result"
    }
   ],
   "source": [
    "sentiment_analysis(2014)"
   ]
  }
 ],
 "metadata": {
  "kernelspec": {
   "display_name": "Python 3",
   "language": "python",
   "name": "python3"
  },
  "language_info": {
   "codemirror_mode": {
    "name": "ipython",
    "version": 3
   },
   "file_extension": ".py",
   "mimetype": "text/x-python",
   "name": "python",
   "nbconvert_exporter": "python",
   "pygments_lexer": "ipython3",
   "version": "3.11.4"
  },
  "orig_nbformat": 4
 },
 "nbformat": 4,
 "nbformat_minor": 2
}
